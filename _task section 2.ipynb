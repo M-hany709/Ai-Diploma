{
 "cells": [
  {
   "cell_type": "code",
   "execution_count": 3,
   "id": "daca319d-25e9-4d29-9af8-a2c0498377fe",
   "metadata": {},
   "outputs": [
    {
     "name": "stdout",
     "output_type": "stream",
     "text": [
      "enter number\n"
     ]
    },
    {
     "name": "stdin",
     "output_type": "stream",
     "text": [
      " 3\n"
     ]
    },
    {
     "name": "stdout",
     "output_type": "stream",
     "text": [
      "enter number:\n"
     ]
    },
    {
     "name": "stdin",
     "output_type": "stream",
     "text": [
      " 4\n"
     ]
    },
    {
     "name": "stdout",
     "output_type": "stream",
     "text": [
      "enter number:\n"
     ]
    },
    {
     "name": "stdin",
     "output_type": "stream",
     "text": [
      " 6\n"
     ]
    },
    {
     "name": "stdout",
     "output_type": "stream",
     "text": [
      "enter number:\n"
     ]
    },
    {
     "name": "stdin",
     "output_type": "stream",
     "text": [
      " -1\n"
     ]
    },
    {
     "name": "stdout",
     "output_type": "stream",
     "text": [
      "the summation of the positive numbers is: 13\n"
     ]
    }
   ],
   "source": [
    "print(\"enter number\")\n",
    "s=0\n",
    "while True:\n",
    "    x=int(input())\n",
    "    if x>0:\n",
    "        s+=x\n",
    "        print(\"enter number:\")\n",
    "    else:\n",
    "        break\n",
    "\n",
    "\n",
    "print(\"the summation of the positive numbers is:\", s)\n",
    "\n",
    "    \n",
    "    "
   ]
  },
  {
   "cell_type": "code",
   "execution_count": 4,
   "id": "565fc273-549b-498a-b5aa-f4d88d0e0d89",
   "metadata": {},
   "outputs": [
    {
     "name": "stdout",
     "output_type": "stream",
     "text": [
      "enter the name:\n"
     ]
    },
    {
     "name": "stdin",
     "output_type": "stream",
     "text": [
      " ahmed\n"
     ]
    },
    {
     "name": "stdout",
     "output_type": "stream",
     "text": [
      "enter the age:\n"
     ]
    },
    {
     "name": "stdin",
     "output_type": "stream",
     "text": [
      " 12\n"
     ]
    },
    {
     "name": "stdout",
     "output_type": "stream",
     "text": [
      "you are not eligible to vote due to being underage\n"
     ]
    }
   ],
   "source": [
    "print(\"enter the name:\")\n",
    "n=(input())\n",
    "print(\"enter the age:\")\n",
    "a=int(input())\n",
    "if a>= 18:\n",
    "    print(\"you are eligible to vote\")\n",
    "else:\n",
    "    print(\"you are not eligible to vote due to being underage\")\n"
   ]
  },
  {
   "cell_type": "code",
   "execution_count": 6,
   "id": "6a064df7-4f60-42a5-9a27-ddea44d57d7c",
   "metadata": {},
   "outputs": [
    {
     "name": "stdout",
     "output_type": "stream",
     "text": [
      "enter the number to calculate the factorial\n"
     ]
    },
    {
     "name": "stdin",
     "output_type": "stream",
     "text": [
      " 5\n"
     ]
    },
    {
     "name": "stdout",
     "output_type": "stream",
     "text": [
      "the fatorial= 120\n"
     ]
    }
   ],
   "source": [
    "print(\"enter the number to calculate the factorial\")\n",
    "x=int(input())\n",
    "f=1\n",
    "while x>0:\n",
    "    f*=x\n",
    "    x-=1\n",
    "print(\"the fatorial=\",f)   \n",
    "    \n"
   ]
  },
  {
   "cell_type": "code",
   "execution_count": 7,
   "id": "a043b459-72f1-46b8-a938-82820897246e",
   "metadata": {},
   "outputs": [
    {
     "name": "stdout",
     "output_type": "stream",
     "text": [
      "plesse enter the number\n"
     ]
    },
    {
     "name": "stdin",
     "output_type": "stream",
     "text": [
      " -3\n"
     ]
    },
    {
     "name": "stdout",
     "output_type": "stream",
     "text": [
      "3\n"
     ]
    }
   ],
   "source": [
    "print(\"plesse enter the number\")\n",
    "x=int(input())\n",
    "if x<0 :\n",
    "    x *=-1\n",
    "    print(x)\n",
    "else:\n",
    "    print(x)\n",
    "\n"
   ]
  },
  {
   "cell_type": "code",
   "execution_count": 8,
   "id": "ce0197d2-8494-4745-92ae-05328bf0f5d6",
   "metadata": {},
   "outputs": [
    {
     "name": "stdout",
     "output_type": "stream",
     "text": [
      "enter the year:\n"
     ]
    },
    {
     "name": "stdin",
     "output_type": "stream",
     "text": [
      " 1900\n"
     ]
    },
    {
     "name": "stdout",
     "output_type": "stream",
     "text": [
      "not leap year\n"
     ]
    }
   ],
   "source": [
    "print(\"enter the year:\")\n",
    "x=int(input())\n",
    "if x%4!=0 :\n",
    "    print(\"not leap year\")\n",
    "    \n",
    "\n",
    "elif x%100 !=0 :\n",
    "    print(\"leap year\")\n",
    "    \n",
    "elif x % 400==0 :\n",
    "    print(\"leap year\")\n",
    "else:\n",
    "    print(\"not leap year\")\n",
    "\n",
    "    \n",
    "    "
   ]
  },
  {
   "cell_type": "code",
   "execution_count": 11,
   "id": "8444de24-327f-46b3-9a69-9c444562fbac",
   "metadata": {},
   "outputs": [
    {
     "name": "stdout",
     "output_type": "stream",
     "text": [
      "enter age of 3 persons:\n"
     ]
    },
    {
     "name": "stdin",
     "output_type": "stream",
     "text": [
      " 3\n",
      " 66\n",
      " 33\n"
     ]
    },
    {
     "name": "stdout",
     "output_type": "stream",
     "text": [
      "the oldest persons is: 66\n",
      "the youngest person is: 3\n"
     ]
    }
   ],
   "source": [
    "print(\"enter age of 3 persons:\")\n",
    "x=int(input())\n",
    "y=int(input())\n",
    "z=int(input())\n",
    "print(\"the oldest persons is:\", max(x,y,z))\n",
    "print(\"the youngest person is:\",min(x,y,z))"
   ]
  },
  {
   "cell_type": "code",
   "execution_count": null,
   "id": "1a1eb87d-45be-43ad-b535-efcf45ec769f",
   "metadata": {},
   "outputs": [],
   "source": []
  }
 ],
 "metadata": {
  "kernelspec": {
   "display_name": "anaconda-panel-2023.05-py310",
   "language": "python",
   "name": "conda-env-anaconda-panel-2023.05-py310-py"
  },
  "language_info": {
   "codemirror_mode": {
    "name": "ipython",
    "version": 3
   },
   "file_extension": ".py",
   "mimetype": "text/x-python",
   "name": "python",
   "nbconvert_exporter": "python",
   "pygments_lexer": "ipython3",
   "version": "3.11.5"
  }
 },
 "nbformat": 4,
 "nbformat_minor": 5
}
