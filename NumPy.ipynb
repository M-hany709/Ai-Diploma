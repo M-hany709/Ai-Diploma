{
 "cells": [
  {
   "cell_type": "code",
   "execution_count": 2,
   "id": "4f7c4ec4-38dc-4fbc-b2e8-a78c7c9f527d",
   "metadata": {},
   "outputs": [
    {
     "name": "stdout",
     "output_type": "stream",
     "text": [
      "1.26.4\n",
      "Build Dependencies:\n",
      "  blas:\n",
      "    detection method: pkgconfig\n",
      "    found: true\n",
      "    include directory: C:/ProgramData/anaconda3/Library/include\n",
      "    lib directory: C:/ProgramData/anaconda3/Library/lib\n",
      "    name: mkl-sdl\n",
      "    openblas configuration: unknown\n",
      "    pc file directory: C:\\b\\abs_c1ywpu18ar\\croot\\numpy_and_numpy_base_1708638681471\\_h_env\\Library\\lib\\pkgconfig\n",
      "    version: '2023.1'\n",
      "  lapack:\n",
      "    detection method: internal\n",
      "    found: true\n",
      "    include directory: unknown\n",
      "    lib directory: unknown\n",
      "    name: dep1583119523984\n",
      "    openblas configuration: unknown\n",
      "    pc file directory: unknown\n",
      "    version: 1.26.4\n",
      "Compilers:\n",
      "  c:\n",
      "    commands: cl.exe\n",
      "    linker: link\n",
      "    name: msvc\n",
      "    version: 19.29.30154\n",
      "  c++:\n",
      "    commands: cl.exe\n",
      "    linker: link\n",
      "    name: msvc\n",
      "    version: 19.29.30154\n",
      "  cython:\n",
      "    commands: cython\n",
      "    linker: cython\n",
      "    name: cython\n",
      "    version: 3.0.8\n",
      "Machine Information:\n",
      "  build:\n",
      "    cpu: x86_64\n",
      "    endian: little\n",
      "    family: x86_64\n",
      "    system: windows\n",
      "  host:\n",
      "    cpu: x86_64\n",
      "    endian: little\n",
      "    family: x86_64\n",
      "    system: windows\n",
      "Python Information:\n",
      "  path: C:\\b\\abs_c1ywpu18ar\\croot\\numpy_and_numpy_base_1708638681471\\_h_env\\python.exe\n",
      "  version: '3.12'\n",
      "SIMD Extensions:\n",
      "  baseline:\n",
      "  - SSE\n",
      "  - SSE2\n",
      "  - SSE3\n",
      "  found:\n",
      "  - SSSE3\n",
      "  - SSE41\n",
      "  - POPCNT\n",
      "  - SSE42\n",
      "  - AVX\n",
      "  - F16C\n",
      "  - FMA3\n",
      "  - AVX2\n",
      "  not found:\n",
      "  - AVX512F\n",
      "  - AVX512CD\n",
      "  - AVX512_SKX\n",
      "  - AVX512_CLX\n",
      "  - AVX512_CNL\n",
      "  - AVX512_ICL\n",
      "\n"
     ]
    }
   ],
   "source": [
    "import numpy as np\n",
    "print(np.__version__)\n",
    "np.show_config()"
   ]
  },
  {
   "cell_type": "code",
   "execution_count": 4,
   "id": "ce664d8e-43ed-4055-913b-ced50b6ea77c",
   "metadata": {},
   "outputs": [
    {
     "name": "stdout",
     "output_type": "stream",
     "text": [
      "add(x1, x2, /, out=None, *, where=True, casting='same_kind', order='K', dtype=None, subok=True[, signature, extobj])\n",
      "\n",
      "Add arguments element-wise.\n",
      "\n",
      "Parameters\n",
      "----------\n",
      "x1, x2 : array_like\n",
      "    The arrays to be added.\n",
      "    If ``x1.shape != x2.shape``, they must be broadcastable to a common\n",
      "    shape (which becomes the shape of the output).\n",
      "out : ndarray, None, or tuple of ndarray and None, optional\n",
      "    A location into which the result is stored. If provided, it must have\n",
      "    a shape that the inputs broadcast to. If not provided or None,\n",
      "    a freshly-allocated array is returned. A tuple (possible only as a\n",
      "    keyword argument) must have length equal to the number of outputs.\n",
      "where : array_like, optional\n",
      "    This condition is broadcast over the input. At locations where the\n",
      "    condition is True, the `out` array will be set to the ufunc result.\n",
      "    Elsewhere, the `out` array will retain its original value.\n",
      "    Note that if an uninitialized `out` array is created via the default\n",
      "    ``out=None``, locations within it where the condition is False will\n",
      "    remain uninitialized.\n",
      "**kwargs\n",
      "    For other keyword-only arguments, see the\n",
      "    :ref:`ufunc docs <ufuncs.kwargs>`.\n",
      "\n",
      "Returns\n",
      "-------\n",
      "add : ndarray or scalar\n",
      "    The sum of `x1` and `x2`, element-wise.\n",
      "    This is a scalar if both `x1` and `x2` are scalars.\n",
      "\n",
      "Notes\n",
      "-----\n",
      "Equivalent to `x1` + `x2` in terms of array broadcasting.\n",
      "\n",
      "Examples\n",
      "--------\n",
      ">>> np.add(1.0, 4.0)\n",
      "5.0\n",
      ">>> x1 = np.arange(9.0).reshape((3, 3))\n",
      ">>> x2 = np.arange(3.0)\n",
      ">>> np.add(x1, x2)\n",
      "array([[  0.,   2.,   4.],\n",
      "       [  3.,   5.,   7.],\n",
      "       [  6.,   8.,  10.]])\n",
      "\n",
      "The ``+`` operator can be used as a shorthand for ``np.add`` on ndarrays.\n",
      "\n",
      ">>> x1 = np.arange(9.0).reshape((3, 3))\n",
      ">>> x2 = np.arange(3.0)\n",
      ">>> x1 + x2\n",
      "array([[ 0.,  2.,  4.],\n",
      "       [ 3.,  5.,  7.],\n",
      "       [ 6.,  8., 10.]])\n",
      "None\n"
     ]
    }
   ],
   "source": [
    "import numpy as np\n",
    "print(np.info(np.add))"
   ]
  },
  {
   "cell_type": "code",
   "execution_count": 6,
   "id": "1f28817f-de84-45de-82be-9baf4d2b2fc0",
   "metadata": {},
   "outputs": [
    {
     "name": "stdout",
     "output_type": "stream",
     "text": [
      "original array:\n",
      "\n",
      "[1 2 3 4]\n",
      "\n",
      " test if none of the elements of the said array is zero:\n",
      "\n",
      "True\n",
      "original array:\n",
      "\n",
      "[0 1 2 3]\n",
      "\n",
      " test if none of the elements of the said array is zero:\n",
      "\n",
      "False\n",
      "\n"
     ]
    }
   ],
   "source": [
    "import numpy as np\n",
    "print(\"original array:\\n\")\n",
    "x=np.array([1,2,3,4])\n",
    "print(x)\n",
    "print(\"\\n test if none of the elements of the said array is zero:\\n\")\n",
    "f=0\n",
    "for i in range(0,4):\n",
    "  if x[i]==0:\n",
    "    f=1\n",
    "    break\n",
    "if f==1:\n",
    "  print(\"False\\n\")\n",
    "else:\n",
    "  print(\"True\")\n",
    "  \n",
    "print(\"original array:\\n\")\n",
    "x=np.array([0,1,2,3])\n",
    "print(x)\n",
    "print(\"\\n test if none of the elements of the said array is zero:\\n\")\n",
    "t=0\n",
    "for i in range(0,4):\n",
    "  if x[i]==0:\n",
    "    t=1\n",
    "    break\n",
    "if t==1:\n",
    "  print(\"False\\n\")  \n",
    "else:\n",
    "  print(\"True\")"
   ]
  },
  {
   "cell_type": "code",
   "execution_count": 8,
   "id": "7203bf52-dbd8-447b-a49a-c6f68b68d31d",
   "metadata": {},
   "outputs": [
    {
     "name": "stdout",
     "output_type": "stream",
     "text": [
      "original array:\n",
      "\n",
      "[1 0 0 0]\n",
      "\n",
      "Test whether any of the elements of a given array is non-zero: \n",
      "\n",
      "True\n",
      "\n",
      "original array:\n",
      "\n",
      "[0 0 0 0]\n",
      "\n",
      "Test whether any of the elements of a given array is non-zero:\n",
      "\n",
      "False\n"
     ]
    }
   ],
   "source": [
    "import numpy as np\n",
    "print(\"original array:\\n\")\n",
    "x=np.array([1,0,0,0])\n",
    "print(x)\n",
    "print(\"\\nTest whether any of the elements of a given array is non-zero: \\n\")\n",
    "f=0\n",
    "for i in range(0,4):\n",
    "  if x[i]!=0:\n",
    "    f=1\n",
    "    break\n",
    "if f==1:\n",
    "  print(\"True\\n\")\n",
    "else:\n",
    "  print(\"False\")\n",
    "  \n",
    "print(\"original array:\\n\")\n",
    "x=np.array([0,0,0,0])\n",
    "print(x)\n",
    "print(\"\\nTest whether any of the elements of a given array is non-zero:\\n\")\n",
    "t=0\n",
    "for i in range(0,4):\n",
    "  if x[i]!=0:\n",
    "    t=1\n",
    "    break\n",
    "if t==1:\n",
    "  print(\"True\\n\")  \n",
    "else:\n",
    "  print(\"False\")\n",
    "  \n",
    "     "
   ]
  },
  {
   "cell_type": "code",
   "execution_count": 10,
   "id": "e207e963-d5cf-41d8-adea-c0f19c3ae2d0",
   "metadata": {},
   "outputs": [
    {
     "name": "stdout",
     "output_type": "stream",
     "text": [
      "Original array\n",
      "[ 1.  0. nan inf]\n",
      "Test a given array element-wise for finiteness :\n",
      "[ True  True False False]\n"
     ]
    }
   ],
   "source": [
    "import numpy as np\n",
    "a = np.array([1, 0, np.nan, np.inf])\n",
    "print(\"Original array\")\n",
    "print(a)\n",
    "print(\"Test a given array element-wise for finiteness :\")\n",
    "print(np.isfinite(a)) "
   ]
  },
  {
   "cell_type": "code",
   "execution_count": 12,
   "id": "b4a27650-c1de-41f9-b6df-e53b58a3eead",
   "metadata": {},
   "outputs": [
    {
     "name": "stdout",
     "output_type": "stream",
     "text": [
      "Element-wise positive infinity check: [False False  True False False False]\n",
      "Element-wise negative infinity check: [False False False  True False False]\n"
     ]
    }
   ],
   "source": [
    "import numpy as np\n",
    "array = np.array([1, -2, np.inf, -np.inf, 0, 3.5])\n",
    "pos= np.isposinf(array)\n",
    "neg = np.isneginf(array)\n",
    "print(\"Element-wise positive infinity check:\", pos)\n",
    "print(\"Element-wise negative infinity check:\", neg)"
   ]
  },
  {
   "cell_type": "code",
   "execution_count": 14,
   "id": "1fad913c-266e-414d-bc84-dc7dbb835d07",
   "metadata": {},
   "outputs": [
    {
     "name": "stdout",
     "output_type": "stream",
     "text": [
      "Original array\n",
      "[ 1.  0. nan inf]\n",
      "Test element-wise for NaN:\n",
      "[False False  True False]\n"
     ]
    }
   ],
   "source": [
    "\n",
    "import numpy as np\n",
    "a = np.array([1, 0, np.nan, np.inf])\n",
    "print(\"Original array\")\n",
    "print(a)\n",
    "print(\"Test element-wise for NaN:\")\n",
    "print(np.isnan(a))"
   ]
  },
  {
   "cell_type": "code",
   "execution_count": 16,
   "id": "e9296ad6-1c5d-43b1-9e59-33a9656c59cd",
   "metadata": {},
   "outputs": [
    {
     "name": "stdout",
     "output_type": "stream",
     "text": [
      "Original array\n",
      "[1. +1.j 1. +0.j 4.5+0.j 3. +0.j 2. +0.j 0. +2.j]\n",
      "Checking for complex number:\n",
      "[ True False False False False  True]\n",
      "Checking for real number:\n",
      "[False  True  True  True  True False]\n",
      "Checking for scalar type:\n",
      "True\n",
      "False\n"
     ]
    }
   ],
   "source": [
    "import numpy as np\n",
    "a = np.array([1+1j, 1+0j, 4.5, 3, 2, 2j])\n",
    "print(\"Original array\")\n",
    "print(a)\n",
    "print(\"Checking for complex number:\")\n",
    "print(np.iscomplex(a))\n",
    "\n",
    "print(\"Checking for real number:\")\n",
    "print(np.isreal(a))\n",
    "\n",
    "print(\"Checking for scalar type:\")\n",
    "print(np.isscalar(3.1))\n",
    "\n",
    "print(np.isscalar([3.1])) "
   ]
  },
  {
   "cell_type": "code",
   "execution_count": 1,
   "id": "0243b864-c26a-49ae-9750-b5e7f2e08ab3",
   "metadata": {},
   "outputs": [
    {
     "name": "stdout",
     "output_type": "stream",
     "text": [
      "Original numbers:\n",
      "[3 5]\n",
      "[2 5]\n",
      "Comparison - greater\n",
      "[ True False]\n",
      "Comparison - greater_equal\n",
      "[ True  True]\n",
      "Comparison - less\n",
      "[False False]\n",
      "Comparison - less_equal\n",
      "[False  True]\n"
     ]
    }
   ],
   "source": [
    "import numpy as np\n",
    "x = np.array([3, 5])\n",
    "y = np.array([2, 5])\n",
    "print(\"Original numbers:\")\n",
    "print(x)\n",
    "print(y)\n",
    "\n",
    "print(\"Comparison - greater\")\n",
    "print(x>y)\n",
    "\n",
    "\n",
    "print(\"Comparison - greater_equal\")\n",
    "print(x>=y)\n",
    "\n",
    "\n",
    "print(\"Comparison - less\")\n",
    "print(x<y)\n",
    "\n",
    "\n",
    "print(\"Comparison - less_equal\")\n",
    "print(x<=y) "
   ]
  },
  {
   "cell_type": "code",
   "execution_count": 3,
   "id": "6600b40e-716c-4c7c-ba3b-a25d8bb7a4c8",
   "metadata": {},
   "outputs": [
    {
     "name": "stdout",
     "output_type": "stream",
     "text": [
      "Original numbers:\n",
      "[  72   79   85   90  150 -135  120  -10   60  100]\n",
      "[  72.         79.         85.         90.        150.       -135.\n",
      "  120.        -10.         60.        100.000001]\n",
      "Comparison - equal:\n",
      "[ True  True  True  True  True  True  True  True  True False]\n",
      "Comparison - equal within a tolerance:\n",
      "True\n"
     ]
    }
   ],
   "source": [
    "import numpy as np\n",
    "\n",
    "\n",
    "x = np.array([72, 79, 85, 90, 150, -135, 120, -10, 60, 100])\n",
    "y = np.array([72, 79, 85, 90, 150, -135, 120, -10, 60, 100.000001])\n",
    "\n",
    "\n",
    "print(\"Original numbers:\")\n",
    "print(x)\n",
    "print(y)\n",
    "\n",
    "\n",
    "print(\"Comparison - equal:\")\n",
    "print(x==y)\n",
    "\n",
    "\n",
    "print(\"Comparison - equal within a tolerance:\")\n",
    "print(np.allclose(x,y,atol=1e-08)) "
   ]
  },
  {
   "cell_type": "code",
   "execution_count": 5,
   "id": "a8db2292-b835-4f38-8334-d0e250e58af2",
   "metadata": {},
   "outputs": [
    {
     "name": "stdout",
     "output_type": "stream",
     "text": [
      "Original array:\n",
      "[  1   7  13 105]\n",
      "Size of the memory occupied by the said array:\n",
      "2.0 bytes\n"
     ]
    }
   ],
   "source": [
    "import numpy as np\n",
    "x= np.array([1, 7, 13, 105])\n",
    "print(\"Original array:\")\n",
    "print(x)\n",
    "print(\"Size of the memory occupied by the said array:\")\n",
    "print(f\"{(x.size*x.itemsize)/8} bytes\")"
   ]
  },
  {
   "cell_type": "code",
   "execution_count": 7,
   "id": "c84192c4-9a06-428f-9a59-ab367314ab92",
   "metadata": {},
   "outputs": [
    {
     "name": "stdout",
     "output_type": "stream",
     "text": [
      "An array of 10 zeros:\n",
      "\n",
      "[0. 0. 0. 0. 0. 0. 0. 0. 0. 0.]\n",
      "\n",
      "An array of 10 ones:\n",
      "\n",
      "[1. 1. 1. 1. 1. 1. 1. 1. 1. 1.]\n",
      "An array of 10 fives:\n",
      "\n",
      "[5. 5. 5. 5. 5. 5. 5. 5. 5. 5.]\n"
     ]
    }
   ],
   "source": [
    "import numpy as np\n",
    "x=np.zeros(10)\n",
    "print(\"An array of 10 zeros:\\n\")\n",
    "print(x)\n",
    "print(\"\\nAn array of 10 ones:\\n\")\n",
    "o=np.ones_like(x)\n",
    "print(o)\n",
    "print(\"An array of 10 fives:\\n\")\n",
    "print(o*5)"
   ]
  },
  {
   "cell_type": "code",
   "execution_count": 9,
   "id": "f8748398-048f-49c6-a807-3b6cca5ce63f",
   "metadata": {},
   "outputs": [
    {
     "name": "stdout",
     "output_type": "stream",
     "text": [
      "Array of the integers from 30 to 70\n",
      "[30 31 32 33 34 35 36 37 38 39 40 41 42 43 44 45 46 47 48 49 50 51 52 53\n",
      " 54 55 56 57 58 59 60 61 62 63 64 65 66 67 68 69 70]\n"
     ]
    }
   ],
   "source": [
    "import numpy as np\n",
    "x=np.arange(30,71)\n",
    "print(\"Array of the integers from 30 to 70\")\n",
    "print(x) "
   ]
  },
  {
   "cell_type": "code",
   "execution_count": 11,
   "id": "9963c7b7-1c84-49a6-8210-5c75cb6acac9",
   "metadata": {},
   "outputs": [
    {
     "name": "stdout",
     "output_type": "stream",
     "text": [
      "Array of the integers from 30 to 70\n",
      "[30 32 34 36 38 40 42 44 46 48 50 52 54 56 58 60 62 64 66 68 70]\n"
     ]
    }
   ],
   "source": [
    "import numpy as np\n",
    "x=np.arange(30,71,2)\n",
    "print(\"Array of the integers from 30 to 70\")\n",
    "print(x) "
   ]
  },
  {
   "cell_type": "code",
   "execution_count": 13,
   "id": "45d9ed28-1989-4389-8027-02890ffa71bd",
   "metadata": {},
   "outputs": [
    {
     "name": "stdout",
     "output_type": "stream",
     "text": [
      "3x3 matrix:\n",
      "[[1. 0. 0.]\n",
      " [0. 1. 0.]\n",
      " [0. 0. 1.]]\n"
     ]
    }
   ],
   "source": [
    "import numpy as np\n",
    "x=np.eye(3)\n",
    "print('3x3 matrix:')\n",
    "print(x) "
   ]
  },
  {
   "cell_type": "code",
   "execution_count": 15,
   "id": "65f8f641-bce6-42c8-a5e7-5ee5a07a0636",
   "metadata": {},
   "outputs": [
    {
     "name": "stdout",
     "output_type": "stream",
     "text": [
      "0.7924848076051827\n"
     ]
    }
   ],
   "source": [
    "import numpy as np\n",
    "x=np.random.rand()\n",
    "print(x)"
   ]
  },
  {
   "cell_type": "code",
   "execution_count": 17,
   "id": "174e7aad-e7f0-4503-a102-91620d5fe2e3",
   "metadata": {},
   "outputs": [
    {
     "name": "stdout",
     "output_type": "stream",
     "text": [
      "[0.31235383 0.01845088 0.38302697 0.09669885 0.48585369 0.61818879\n",
      " 0.39654197 0.27361322 0.17106151 0.84483929 0.97791575 0.6315211\n",
      " 0.61323055 0.2923369  0.31187516]\n"
     ]
    }
   ],
   "source": [
    "import numpy as np\n",
    "x=np.random.rand(15)\n",
    "print(x)"
   ]
  },
  {
   "cell_type": "code",
   "execution_count": 19,
   "id": "c9a65547-cc58-4652-85d5-216503a9da83",
   "metadata": {},
   "outputs": [
    {
     "name": "stdout",
     "output_type": "stream",
     "text": [
      "original vector:\n",
      "\n",
      "[15 16 17 18 19 20 21 22 23 24 25 26 27 28 29 30 31 32 33 34 35 36 37 38\n",
      " 39 40 41 42 43 44 45 46 47 48 49 50 51 52 53 54 55]\n",
      "values expected first and last value\n",
      "\n",
      "[16 17 18 19 20 21 22 23 24 25 26 27 28 29 30 31 32 33 34 35 36 37 38 39\n",
      " 40 41 42 43 44 45 46 47 48 49 50 51 52 53 54]\n"
     ]
    }
   ],
   "source": [
    "import numpy as np\n",
    "x=np.arange(15,56)\n",
    "print(\"original vector:\\n\")\n",
    "print(x)\n",
    "print(\"values expected first and last value\\n\")\n",
    "y=np.delete(x,[0,len(x)-1])\n",
    "print(y)"
   ]
  },
  {
   "cell_type": "code",
   "execution_count": 23,
   "id": "608f1597-90bd-42b6-85c5-2131482381b0",
   "metadata": {},
   "outputs": [
    {
     "name": "stdout",
     "output_type": "stream",
     "text": [
      "original vector:\n",
      "\n",
      "[[20 21 22 23]\n",
      " [24 25 26 27]\n",
      " [28 29 30 31]]\n",
      "each element in the array:\n",
      "\n",
      "20\n",
      "21\n",
      "22\n",
      "23\n",
      "24\n",
      "25\n",
      "26\n",
      "27\n",
      "28\n",
      "29\n",
      "30\n",
      "31\n"
     ]
    }
   ],
   "source": [
    "import numpy as np\n",
    "x=np.arange(20,32).reshape(3,4)\n",
    "print(\"original vector:\\n\")\n",
    "print(x)\n",
    "print(\"each element in the array:\\n\")\n",
    "y=x.ravel()\n",
    "for i in range(0,len(y)):\n",
    "  print(y[i])\n",
    "  "
   ]
  },
  {
   "cell_type": "code",
   "execution_count": 25,
   "id": "187779b1-ff7c-4a7d-bf43-4f5c523e0746",
   "metadata": {},
   "outputs": [
    {
     "name": "stdout",
     "output_type": "stream",
     "text": [
      "Length 10 with values evenly distributed between 5 and 50:\n",
      "[ 5 10 15 20 25 30 35 40 45 50]\n"
     ]
    }
   ],
   "source": [
    "import numpy as np\n",
    "x=np.arange(5,51,5)\n",
    "print(\"Length 10 with values evenly distributed between 5 and 50:\")\n",
    "print(x)"
   ]
  },
  {
   "cell_type": "code",
   "execution_count": 27,
   "id": "199d9013-f4ad-4a2c-8384-325e8cde5318",
   "metadata": {},
   "outputs": [
    {
     "name": "stdout",
     "output_type": "stream",
     "text": [
      "Original vector:\n",
      "[ 0  1  2  3  4  5  6  7  8  9 10 11 12 13 14 15 16 17 18 19 20]\n",
      "After changing the sign of the numbers in the range from 9 to 15:\n",
      "[  0   1   2   3   4   5   6   7   8  -9 -10 -11 -12 -13 -14 -15  16  17\n",
      "  18  19  20]\n"
     ]
    }
   ],
   "source": [
    "import numpy as np\n",
    "x=np.arange(0,21)\n",
    "print(\"Original vector:\")\n",
    "print(x)\n",
    "print(\"After changing the sign of the numbers in the range from 9 to 15:\")\n",
    "for i in range(9,16):\n",
    "  x[i]=x[i]*-1\n",
    "print(x)    "
   ]
  },
  {
   "cell_type": "code",
   "execution_count": 29,
   "id": "d4c0ee51-8707-4d0b-ac6a-32a674df7a4b",
   "metadata": {},
   "outputs": [
    {
     "name": "stdout",
     "output_type": "stream",
     "text": [
      "Vector of length 5 filled with arbitrary integers from 0 to 10:\n",
      "[1 0 7 3 4]\n"
     ]
    }
   ],
   "source": [
    "import numpy as np\n",
    "print(\"Vector of length 5 filled with arbitrary integers from 0 to 10:\")\n",
    "x=np.random.randint(0,11,5,'i8')\n",
    "print(x)"
   ]
  },
  {
   "cell_type": "code",
   "execution_count": 31,
   "id": "b3216b8b-cd5f-4d13-b77c-a535ad345936",
   "metadata": {},
   "outputs": [
    {
     "name": "stdout",
     "output_type": "stream",
     "text": [
      "Vector of length 5 filled with arbitrary integers from 0 to 10:\n",
      "vector1:\n",
      "[10  2  2  3  4]\n",
      "vector2:\n",
      "[6 6 4 0 0]\n",
      "the multiple of the two vector:\n",
      "[60 12  8  0  0]\n"
     ]
    }
   ],
   "source": [
    "import numpy as np\n",
    "print(\"Vector of length 5 filled with arbitrary integers from 0 to 10:\")\n",
    "x=np.random.randint(0,11,5,'i8')\n",
    "print(\"vector1:\")\n",
    "print(x)\n",
    "y=np.random.randint(0,11,5,'i8')\n",
    "print(\"vector2:\")\n",
    "print(y)\n",
    "print(\"the multiple of the two vector:\")\n",
    "print(y*x)"
   ]
  },
  {
   "cell_type": "code",
   "execution_count": 33,
   "id": "719f4ed9-ca36-45f1-ba94-57905acc58dc",
   "metadata": {},
   "outputs": [
    {
     "name": "stdout",
     "output_type": "stream",
     "text": [
      "[[10 11 12 13]\n",
      " [14 15 16 17]\n",
      " [18 19 20 21]]\n"
     ]
    }
   ],
   "source": [
    "import numpy as np\n",
    "x=np.arange(10,22).reshape(3,4)\n",
    "print(x)"
   ]
  },
  {
   "cell_type": "code",
   "execution_count": 35,
   "id": "8b269248-e798-4cec-8c0a-73d172b4bf7b",
   "metadata": {},
   "outputs": [
    {
     "name": "stdout",
     "output_type": "stream",
     "text": [
      "[[10 11 12 13]\n",
      " [14 15 16 17]\n",
      " [18 19 20 21]]\n",
      "the size of the matrix:\n",
      "(3, 4)\n"
     ]
    }
   ],
   "source": [
    "import numpy as np\n",
    "x=np.arange(10,22).reshape(3,4)\n",
    "print(x)\n",
    "print(\"the size of the matrix:\")\n",
    "print(x.shape)"
   ]
  },
  {
   "cell_type": "code",
   "execution_count": 37,
   "id": "e93956f4-e4a0-4e0e-8eae-7b40d3dfec54",
   "metadata": {},
   "outputs": [
    {
     "name": "stdout",
     "output_type": "stream",
     "text": [
      "[[1. 0. 0.]\n",
      " [0. 1. 0.]\n",
      " [0. 0. 1.]]\n"
     ]
    }
   ],
   "source": [
    "import numpy as np\n",
    "x=np.eye(3)\n",
    "print(x)\n"
   ]
  },
  {
   "cell_type": "code",
   "execution_count": 39,
   "id": "1579f952-ac73-499c-954d-a31595bd08a9",
   "metadata": {},
   "outputs": [
    {
     "name": "stdout",
     "output_type": "stream",
     "text": [
      "[[1. 1. 1. 1. 1. 1. 1. 1. 1. 1.]\n",
      " [1. 0. 0. 0. 0. 0. 0. 0. 0. 1.]\n",
      " [1. 0. 0. 0. 0. 0. 0. 0. 0. 1.]\n",
      " [1. 0. 0. 0. 0. 0. 0. 0. 0. 1.]\n",
      " [1. 0. 0. 0. 0. 0. 0. 0. 0. 1.]\n",
      " [1. 0. 0. 0. 0. 0. 0. 0. 0. 1.]\n",
      " [1. 0. 0. 0. 0. 0. 0. 0. 0. 1.]\n",
      " [1. 0. 0. 0. 0. 0. 0. 0. 0. 1.]\n",
      " [1. 0. 0. 0. 0. 0. 0. 0. 0. 1.]\n",
      " [1. 1. 1. 1. 1. 1. 1. 1. 1. 1.]]\n"
     ]
    }
   ],
   "source": [
    "import numpy as np\n",
    "x=np.zeros((10,10))\n",
    "for i in range(0,10):\n",
    "  for w in range(0,10):\n",
    "    if (i==0 or w==0 or i==9 or w==9):\n",
    "      x[i][w]=1\n",
    "       \n",
    "print(x)       "
   ]
  },
  {
   "cell_type": "code",
   "execution_count": 41,
   "id": "9b099adc-c09a-4d95-96a8-232ecf496ae5",
   "metadata": {},
   "outputs": [
    {
     "name": "stdout",
     "output_type": "stream",
     "text": [
      "[[1 0 0 0 0]\n",
      " [0 2 0 0 0]\n",
      " [0 0 3 0 0]\n",
      " [0 0 0 4 0]\n",
      " [0 0 0 0 5]]\n"
     ]
    }
   ],
   "source": [
    "import numpy as np\n",
    "x=np.zeros((5,5))\n",
    "x = np.diag([1, 2, 3, 4, 5])\n",
    "print(x)       "
   ]
  },
  {
   "cell_type": "code",
   "execution_count": 43,
   "id": "249291b0-28a1-431b-92fc-1cb60cc9b0ad",
   "metadata": {},
   "outputs": [
    {
     "name": "stdout",
     "output_type": "stream",
     "text": [
      "[[0. 1. 0. 1.]\n",
      " [1. 0. 1. 0.]\n",
      " [0. 1. 0. 1.]\n",
      " [1. 0. 1. 0.]]\n"
     ]
    }
   ],
   "source": [
    "import numpy as np\n",
    "x=np.zeros((4,4))\n",
    "for i in range(0,4):\n",
    "  for d in range(0,4):\n",
    "    if (i%2==0 and(d==1 or d==3)):\n",
    "      x[i][d]=1\n",
    "    if (i%2!=0 and(d==0 or d==2)):\n",
    "      x[i][d]=1  \n",
    "    \n",
    "print(x)       "
   ]
  },
  {
   "cell_type": "code",
   "execution_count": 45,
   "id": "86a3436b-6588-4854-a9ab-8d8cb089eb91",
   "metadata": {},
   "outputs": [
    {
     "name": "stdout",
     "output_type": "stream",
     "text": [
      "[[[0.51947832 0.21097242 0.02017855]\n",
      "  [0.90389744 0.65902539 0.90530304]\n",
      "  [0.25462473 0.78894277 0.10104961]]\n",
      "\n",
      " [[0.76355379 0.37090207 0.02942432]\n",
      "  [0.99375762 0.45314105 0.30458378]\n",
      "  [0.31821794 0.30533749 0.78376336]]\n",
      "\n",
      " [[0.37844081 0.11114975 0.10825308]\n",
      "  [0.05916669 0.78237845 0.39110709]\n",
      "  [0.24577154 0.47341593 0.80352657]]]\n"
     ]
    }
   ],
   "source": [
    "import numpy as np\n",
    "x=np.random.rand(3,3,3)\n",
    "print(x)       "
   ]
  },
  {
   "cell_type": "code",
   "execution_count": 47,
   "id": "5ef381c5-1182-40a4-8a21-0f13e14f4351",
   "metadata": {},
   "outputs": [
    {
     "name": "stdout",
     "output_type": "stream",
     "text": [
      "Original array:\n",
      "[[0 1]\n",
      " [2 3]]\n",
      "sum of each column:\n",
      "[2 4]\n",
      "sum of each row:\n",
      "[1 5]\n",
      "sum of matrix:\n",
      "6\n"
     ]
    }
   ],
   "source": [
    "import numpy as np\n",
    "x = np.array([[0, 1], [2, 3]])\n",
    "print(\"Original array:\")\n",
    "print(x)\n",
    "print(\"sum of each column:\")\n",
    "print(np.sum(x,axis=0))\n",
    "print(\"sum of each row:\")\n",
    "print(np.sum(x,axis=1))\n",
    "print(\"sum of matrix:\")\n",
    "print(np.sum(x))"
   ]
  },
  {
   "cell_type": "code",
   "execution_count": 49,
   "id": "a4befcc9-dcc3-4673-94e2-57889987afda",
   "metadata": {},
   "outputs": [
    {
     "name": "stdout",
     "output_type": "stream",
     "text": [
      "Original vectors:\n",
      "[4 5]\n",
      "[ 7 10]\n",
      "the inner product:\n",
      "78\n"
     ]
    }
   ],
   "source": [
    "import numpy as np\n",
    "x = np.array([4, 5])\n",
    "y = np.array([7, 10])\n",
    "print(\"Original vectors:\")\n",
    "print(x)\n",
    "print(y)\n",
    "print(\"the inner product:\")\n",
    "print(np.dot(x,y))"
   ]
  },
  {
   "cell_type": "code",
   "execution_count": 51,
   "id": "75532d4b-3a8d-4d78-9541-6b38e661fe32",
   "metadata": {},
   "outputs": [
    {
     "name": "stdout",
     "output_type": "stream",
     "text": [
      "Original vector:\n",
      "[1 1 0]\n",
      "Original matrix:\n",
      "[[ 1  2  3]\n",
      " [ 4  5  6]\n",
      " [ 7  8  9]\n",
      " [10 11 12]]\n",
      "[[ 2  3  3]\n",
      " [ 5  6  6]\n",
      " [ 8  9  9]\n",
      " [11 12 12]]\n"
     ]
    }
   ],
   "source": [
    "import numpy as np\n",
    "m = np.array([[1, 2, 3], [4, 5, 6], [7, 8, 9], [10, 11, 12]])\n",
    "v = np.array([1, 1, 0])\n",
    "print(\"Original vector:\")\n",
    "print(v)\n",
    "print(\"Original matrix:\")\n",
    "print(m)\n",
    "print(v+m)"
   ]
  },
  {
   "cell_type": "code",
   "execution_count": 53,
   "id": "7712dbf2-985d-46b5-a1bf-70077f60e8f5",
   "metadata": {},
   "outputs": [
    {
     "name": "stdout",
     "output_type": "stream",
     "text": [
      "True\n"
     ]
    }
   ],
   "source": [
    "import numpy as np\n",
    "m = [[1, 2, 3], [4, 5, 6], [7, 8, 9], [10, 11, 12]]\n",
    "x=np.array(m)\n",
    "m2=x.tolist()\n",
    "print(m==m2)\n"
   ]
  },
  {
   "cell_type": "code",
   "execution_count": 55,
   "id": "fe2dcb89-2c6f-4c38-ac69-4de80b3075dd",
   "metadata": {},
   "outputs": [
    {
     "name": "stdout",
     "output_type": "stream",
     "text": [
      "the original matrix:\n",
      "[[1 1 0 2]\n",
      " [0 3 0 3]\n",
      " [1 0 4 4]]\n",
      "14\n"
     ]
    }
   ],
   "source": [
    "import numpy as np\n",
    "m =np.array([[1, 1, 0, 2],\n",
    "     [0, 3, 0, 3],\n",
    "     [1, 0, 4, 4]]) \n",
    "print(\"the original matrix:\")\n",
    "print(m)\n",
    "\n",
    "for i in range(0,m.shape[0]-1):\n",
    "  for x in range(0,m.shape[1]):\n",
    "    if m[i][x]==0:\n",
    "      m[i+1][x]=0\n",
    "    s=np.sum(m)\n",
    "   \n",
    "print(s)"
   ]
  },
  {
   "cell_type": "code",
   "execution_count": 57,
   "id": "eb268f7e-d35c-4366-86ca-b1a9af0a9e84",
   "metadata": {},
   "outputs": [
    {
     "name": "stdout",
     "output_type": "stream",
     "text": [
      "Original array:\n",
      "[[ 3.  2. nan  1.]\n",
      " [10. 12. 10.  9.]\n",
      " [ 5. nan  1. nan]]\n",
      "\n",
      "Find the missing data of the said array:\n",
      "[[False False  True False]\n",
      " [False False False False]\n",
      " [False  True False  True]]\n"
     ]
    }
   ],
   "source": [
    "import numpy as np\n",
    " \n",
    "nums = np.array ([[3, 2, np.nan, 1],\n",
    "                 [10, 12, 10, 9],\n",
    "                 [5, np.nan, 1, np.nan]])\n",
    "print(\"Original array:\")\n",
    "print(nums)\n",
    "print(\"\\nFind the missing data of the said array:\")\n",
    "print(np.isnan(nums)) "
   ]
  },
  {
   "cell_type": "code",
   "execution_count": 59,
   "id": "36e3f8d6-4e8c-4ac7-9145-59b331404f68",
   "metadata": {},
   "outputs": [
    {
     "name": "stdout",
     "output_type": "stream",
     "text": [
      "Original arrays:\n",
      "[0.5 1.5 0.2]\n",
      "[0.4999999999 1.5          0.2         ]\n",
      "\n",
      "Test said two arrays are equal (element wise) or not:?\n",
      "[False  True  True]\n",
      "\n",
      "Original arrays:\n",
      "[0.5  1.5  0.23]\n",
      "[0.4999999999 1.5000000001 0.23        ]\n",
      "\n",
      "Test said two arrays are equal (element wise) or not:?\n",
      "[False False  True]\n"
     ]
    }
   ],
   "source": [
    "import numpy as np\n",
    "nums1 = np.array([0.5, 1.5, 0.2])\n",
    "nums2 = np.array([0.4999999999, 1.500000000, 0.2])\n",
    "\n",
    "np.set_printoptions(precision=15)\n",
    "\n",
    "print(\"Original arrays:\")\n",
    "print(nums1)\n",
    "print(nums2)\n",
    "print(\"\\nTest said two arrays are equal (element wise) or not:?\")\n",
    "print(nums1 == nums2)\n",
    "nums1 = np.array([0.5, 1.5, 0.23])\n",
    "nums2 = np.array([0.4999999999, 1.5000000001, 0.23])\n",
    "print(\"\\nOriginal arrays:\")\n",
    "np.set_printoptions(precision=15)\n",
    "print(nums1)\n",
    "print(nums2)\n",
    "print(\"\\nTest said two arrays are equal (element wise) or not:?\")\n",
    "print(np.equal(nums1, nums2)) "
   ]
  },
  {
   "cell_type": "code",
   "execution_count": 2,
   "id": "e51cdef7-f825-4c55-8d27-e01081d15eb0",
   "metadata": {},
   "outputs": [
    {
     "name": "stdout",
     "output_type": "stream",
     "text": [
      "the matrix with single digits:\n",
      "[0 1 2 3 4 5 6 7 8 9]\n",
      "the matrix with two digits:\n",
      "[10 11 12 13 14 15 16 17 18 19 20 21 22 23 24 25 26 27 28 29 30 31 32 33\n",
      " 34 35 36 37 38 39 40 41 42 43 44 45 46 47 48 49 50 51 52 53 54 55 56 57\n",
      " 58 59 60 61 62 63 64 65 66 67 68 69 70 71 72 73 74 75 76 77 78 79 80 81\n",
      " 82 83 84 85 86 87 88 89 90 91 92 93 94 95 96 97 98 99]\n",
      "the matrix with three digits:\n",
      "[100 101 102 103 104 105 106 107 108 109 110 111 112 113 114 115 116 117\n",
      " 118 119 120 121 122 123 124 125 126 127 128 129 130 131 132 133 134 135\n",
      " 136 137 138 139 140 141 142 143 144 145 146 147 148 149 150 151 152 153\n",
      " 154 155 156 157 158 159 160 161 162 163 164 165 166 167 168 169 170 171\n",
      " 172 173 174 175 176 177 178 179 180 181 182 183 184 185 186 187 188 189\n",
      " 190 191 192 193 194 195 196 197 198 199 200 201 202 203 204 205 206 207\n",
      " 208 209 210 211 212 213 214 215 216 217 218 219 220 221 222 223 224 225\n",
      " 226 227 228 229 230 231 232 233 234 235 236 237 238 239 240 241 242 243\n",
      " 244 245 246 247 248 249 250 251 252 253 254 255 256 257 258 259 260 261\n",
      " 262 263 264 265 266 267 268 269 270 271 272 273 274 275 276 277 278 279\n",
      " 280 281 282 283 284 285 286 287 288 289 290 291 292 293 294 295 296 297\n",
      " 298 299 300 301 302 303 304 305 306 307 308 309 310 311 312 313 314 315\n",
      " 316 317 318 319 320 321 322 323 324 325 326 327 328 329 330 331 332 333\n",
      " 334 335 336 337 338 339 340 341 342 343 344 345 346 347 348 349 350 351\n",
      " 352 353 354 355 356 357 358 359 360 361 362 363 364 365 366 367 368 369\n",
      " 370 371 372 373 374 375 376 377 378 379 380 381 382 383 384 385 386 387\n",
      " 388 389 390 391 392 393 394 395 396 397 398 399 400 401 402 403 404 405\n",
      " 406 407 408 409 410 411 412 413 414 415 416 417 418 419 420 421 422 423\n",
      " 424 425 426 427 428 429 430 431 432 433 434 435 436 437 438 439 440 441\n",
      " 442 443 444 445 446 447 448 449 450 451 452 453 454 455 456 457 458 459\n",
      " 460 461 462 463 464 465 466 467 468 469 470 471 472 473 474 475 476 477\n",
      " 478 479 480 481 482 483 484 485 486 487 488 489 490 491 492 493 494 495\n",
      " 496 497 498 499 500 501 502 503 504 505 506 507 508 509 510 511 512 513\n",
      " 514 515 516 517 518 519 520 521 522 523 524 525 526 527 528 529 530 531\n",
      " 532 533 534 535 536 537 538 539 540 541 542 543 544 545 546 547 548 549\n",
      " 550 551 552 553 554 555 556 557 558 559 560 561 562 563 564 565 566 567\n",
      " 568 569 570 571 572 573 574 575 576 577 578 579 580 581 582 583 584 585\n",
      " 586 587 588 589 590 591 592 593 594 595 596 597 598 599 600 601 602 603\n",
      " 604 605 606 607 608 609 610 611 612 613 614 615 616 617 618 619 620 621\n",
      " 622 623 624 625 626 627 628 629 630 631 632 633 634 635 636 637 638 639\n",
      " 640 641 642 643 644 645 646 647 648 649 650 651 652 653 654 655 656 657\n",
      " 658 659 660 661 662 663 664 665 666 667 668 669 670 671 672 673 674 675\n",
      " 676 677 678 679 680 681 682 683 684 685 686 687 688 689 690 691 692 693\n",
      " 694 695 696 697 698 699 700 701 702 703 704 705 706 707 708 709 710 711\n",
      " 712 713 714 715 716 717 718 719 720 721 722 723 724 725 726 727 728 729\n",
      " 730 731 732 733 734 735 736 737 738 739 740 741 742 743 744 745 746 747\n",
      " 748 749 750 751 752 753 754 755 756 757 758 759 760 761 762 763 764 765\n",
      " 766 767 768 769 770 771 772 773 774 775 776 777 778 779 780 781 782 783\n",
      " 784 785 786 787 788 789 790 791 792 793 794 795 796 797 798 799 800 801\n",
      " 802 803 804 805 806 807 808 809 810 811 812 813 814 815 816 817 818 819\n",
      " 820 821 822 823 824 825 826 827 828 829 830 831 832 833 834 835 836 837\n",
      " 838 839 840 841 842 843 844 845 846 847 848 849 850 851 852 853 854 855\n",
      " 856 857 858 859 860 861 862 863 864 865 866 867 868 869 870 871 872 873\n",
      " 874 875 876 877 878 879 880 881 882 883 884 885 886 887 888 889 890 891\n",
      " 892 893 894 895 896 897 898 899 900 901 902 903 904 905 906 907 908 909\n",
      " 910 911 912 913 914 915 916 917 918 919 920 921 922 923 924 925 926 927\n",
      " 928 929 930 931 932 933 934 935 936 937 938 939 940 941 942 943 944 945\n",
      " 946 947 948 949 950 951 952 953 954 955 956 957 958 959 960 961 962 963\n",
      " 964 965 966 967 968 969 970 971 972 973 974 975 976 977 978 979 980 981\n",
      " 982 983 984 985 986 987 988 989 990 991 992 993 994 995 996 997 998 999]\n"
     ]
    }
   ],
   "source": [
    "import numpy as np\n",
    "print(\"the matrix with single digits:\")\n",
    "print(np.arange(0,10))\n",
    "print(\"the matrix with two digits:\")\n",
    "print(np.arange(10,100))\n",
    "print(\"the matrix with three digits:\")\n",
    "print(np.arange(100,1000))"
   ]
  },
  {
   "cell_type": "code",
   "execution_count": 2,
   "id": "40919c01-f2e1-4d7a-b3a6-4a37a9c425ad",
   "metadata": {},
   "outputs": [
    {
     "name": "stdout",
     "output_type": "stream",
     "text": [
      "[[  1   2   3   4   5   6   7   8   9  10]\n",
      " [ 11  12  13  14  15  16  17  18  19  20]\n",
      " [ 21  22  23  24  25  26  27  28  29  30]\n",
      " [ 31  32  33  34  35  36  37  38  39  40]\n",
      " [ 41  42  43  44  45  46  47  48  49  50]\n",
      " [ 51  52  53  54  55  56  57  58  59  60]\n",
      " [ 61  62  63  64  65  66  67  68  69  70]\n",
      " [ 71  72  73  74  75  76  77  78  79  80]\n",
      " [ 81  82  83  84  85  86  87  88  89  90]\n",
      " [ 91  92  93  94  95  96  97  98  99 100]\n",
      " [101 102 103 104 105 106 107 108 109 110]\n",
      " [111 112 113 114 115 116 117 118 119 120]\n",
      " [121 122 123 124 125 126 127 128 129 130]\n",
      " [131 132 133 134 135 136 137 138 139 140]\n",
      " [141 142 143 144 145 146 147 148 149 150]]\n"
     ]
    }
   ],
   "source": [
    "import numpy as np\n",
    "x=np.arange(1,151).reshape(15,10)\n",
    "print(x)"
   ]
  },
  {
   "cell_type": "code",
   "execution_count": 4,
   "id": "c30c5468-446c-4367-971f-67498802ae18",
   "metadata": {},
   "outputs": [
    {
     "name": "stdout",
     "output_type": "stream",
     "text": [
      "[0.77132064 0.02075195 0.63364823 0.74880388 0.49850701 0.22479665\n",
      " 0.19806286 0.76053071 0.16911084 0.08833981 0.68535982 0.95339335\n",
      " 0.00394827 0.51219226 0.81262096 0.61252607 0.72175532 0.29187607\n",
      " 0.91777412 0.71457578 0.54254437 0.14217005 0.37334076 0.67413362\n",
      " 0.44183317 0.43401399 0.61776698 0.51313824 0.65039718 0.60103895\n",
      " 0.8052232  0.52164715 0.90864888 0.31923609 0.09045935 0.30070006\n",
      " 0.11398436 0.82868133 0.04689632 0.62628715]\n"
     ]
    }
   ],
   "source": [
    "import numpy as np  \n",
    "np.random.seed(10)\n",
    "print(np.random.rand(40)) "
   ]
  },
  {
   "cell_type": "code",
   "execution_count": 6,
   "id": "79b1ff72-e72b-4298-b3e1-a43ac48231d9",
   "metadata": {},
   "outputs": [
    {
     "name": "stdout",
     "output_type": "stream",
     "text": [
      "[[201.6908267  200.37467631 200.68394275 195.51750123]\n",
      " [197.92478992 201.07066048 201.79714021 198.1282331 ]\n",
      " [200.96238963 200.77744291 200.61875865 199.05613894]\n",
      " [198.48492638 198.38860811 197.55239946 200.47003621]\n",
      " [199.91545839 202.99877319 202.01069857 200.77735483]\n",
      " [199.67739161 193.89831807 202.14273593 202.54951299]\n",
      " [199.53450969 199.7512602  199.79145727 202.97687757]\n",
      " [200.24634413 196.04606934 198.30611253 197.88701546]\n",
      " [201.78450912 203.94032834 198.21152803 196.91446071]\n",
      " [201.0082481  197.03285104 200.63052763 197.82590294]]\n"
     ]
    }
   ],
   "source": [
    "import numpy as np \n",
    "np.random.seed(20) \n",
    "cbrt = np.cbrt(7)\n",
    "nd1 = 200 \n",
    "print(cbrt * np.random.randn(10, 4) + nd1)   \n"
   ]
  },
  {
   "cell_type": "code",
   "execution_count": 8,
   "id": "fa5c744c-5574-4c94-8615-e877baa7629b",
   "metadata": {},
   "outputs": [
    {
     "name": "stdout",
     "output_type": "stream",
     "text": [
      "Generate a uniform random sample with replacement:\n",
      "[2 2 1 5 2]\n",
      "\n",
      "Generate a uniform random sample without replacement:\n",
      "[6 3 5 4 2]\n",
      "\n",
      "Generate a non-uniform random sample with replacement:\n",
      "[6 1 6 0 1]\n",
      "\n",
      "Generate a uniform random sample without replacement:\n",
      "[1 6 4 3 0]\n"
     ]
    }
   ],
   "source": [
    "import numpy as np \n",
    "print(\"Generate a uniform random sample with replacement:\") \n",
    "print(np.random.choice(7, 5))\n",
    "print(\"\\nGenerate a uniform random sample without replacement:\") \n",
    "print(np.random.choice(7, 5, replace=False))\n",
    "print(\"\\nGenerate a non-uniform random sample with replacement:\") \n",
    "print(np.random.choice(7, 5, p=[0.1, 0.2, 0, 0.2, 0.4, 0, 0.1]))\n",
    "print(\"\\nGenerate a uniform random sample without replacement:\") \n",
    "print(np.random.choice(7, 5, replace=False, p=[0.1, 0.2, 0, 0.2, 0.4, 0, 0.1]))   "
   ]
  },
  {
   "cell_type": "code",
   "execution_count": 10,
   "id": "2d45447c-8389-4876-a395-c84ae70cad89",
   "metadata": {},
   "outputs": [
    {
     "name": "stdout",
     "output_type": "stream",
     "text": [
      "[[6 1 9 6]\n",
      " [7 9 7 6]\n",
      " [9 8 8 2]\n",
      " [2 1 5 2]]\n",
      "after swapping:\n",
      "[[2 1 5 2]\n",
      " [7 9 7 6]\n",
      " [9 8 8 2]\n",
      " [6 1 9 6]]\n"
     ]
    }
   ],
   "source": [
    "import numpy as np\n",
    "x=np.random.randint(0,10,size=(4,4))\n",
    "print(x)\n",
    "temp=0\n",
    "for i in range(0,4):\n",
    "  temp=x[0][i]\n",
    "  x[0][i]=x[3][i]\n",
    "  x[3][i]=temp\n",
    "print(\"after swapping:\")\n",
    "print(x)"
   ]
  },
  {
   "cell_type": "code",
   "execution_count": 12,
   "id": "4293d950-c994-4fce-8286-05a6c54b0b87",
   "metadata": {},
   "outputs": [
    {
     "name": "stdout",
     "output_type": "stream",
     "text": [
      "[[0. 0. 0. 0. 0. 0.]\n",
      " [0. 0. 0. 0. 0. 0.]\n",
      " [0. 0. 0. 0. 0. 0.]\n",
      " [0. 0. 0. 0. 0. 0.]\n",
      " [0. 0. 0. 0. 0. 0.]]\n",
      " \n",
      "[[3. 0. 3. 0. 3. 0.]\n",
      " [7. 0. 7. 0. 7. 0.]\n",
      " [3. 0. 3. 0. 3. 0.]\n",
      " [7. 0. 7. 0. 7. 0.]\n",
      " [3. 0. 3. 0. 3. 0.]]\n"
     ]
    }
   ],
   "source": [
    "import numpy as np\n",
    "x=np.zeros((5,6))\n",
    "print(x)\n",
    "print(\" \")\n",
    "x[::2,::2]=3\n",
    "x[1::2,::2]=7\n",
    "print(x)"
   ]
  },
  {
   "cell_type": "code",
   "execution_count": 14,
   "id": "ee1dfbfe-dcdb-4b6a-9a3b-3ad19df515f2",
   "metadata": {},
   "outputs": [
    {
     "name": "stdout",
     "output_type": "stream",
     "text": [
      "original array:\n",
      "[[5.54 3.38 7.99]\n",
      " [3.54 4.38 6.99]\n",
      " [1.54 2.39 9.29]]\n",
      "array by sort column:\n",
      "[[1.54 2.39 6.99]\n",
      " [3.54 3.38 7.99]\n",
      " [5.54 4.38 9.29]]\n",
      "array by sort row:\n",
      "[[3.38 5.54 7.99]\n",
      " [3.54 4.38 6.99]\n",
      " [1.54 2.39 9.29]]\n"
     ]
    }
   ],
   "source": [
    "import numpy as np  \n",
    "print(\"original array:\")\n",
    "x = np.array([[5.54, 3.38, 7.99],\n",
    "              [3.54, 4.38, 6.99],\n",
    "              [1.54, 2.39, 9.29]])\n",
    "              \n",
    "print(x)              \n",
    "              \n",
    "print(\"array by sort column:\")\n",
    "print(np.sort(x,axis=0))\n",
    "\n",
    "print(\"array by sort row:\")\n",
    "print(np.sort(x,axis=1))\n",
    "              "
   ]
  },
  {
   "cell_type": "code",
   "execution_count": 16,
   "id": "6c37440b-0620-478f-9dff-9a944d33d639",
   "metadata": {},
   "outputs": [
    {
     "name": "stdout",
     "output_type": "stream",
     "text": [
      "Original array:\n",
      "[[5.54 3.38 7.99]\n",
      " [3.54 4.38 6.99]\n",
      " [1.54 2.39 9.29]]\n",
      "\n",
      "Elements of the said array greater than 5\n",
      "[5.54 7.99 6.99 9.29]\n",
      "\n",
      "Elements of the said array less than 6\n",
      "[5.54 3.38 3.54 4.38 1.54 2.39]\n"
     ]
    }
   ],
   "source": [
    "import numpy as np  \n",
    "nums = np.array([[5.54, 3.38, 7.99],\n",
    "              [3.54, 4.38, 6.99],\n",
    "              [1.54, 2.39, 9.29]])\n",
    "print(\"Original array:\")\n",
    "print(nums)\n",
    "\n",
    "print(\"\\nElements of the said array greater than\", 5)\n",
    "print(nums[nums > 5])\n",
    "\n",
    "print(\"\\nElements of the said array less than\", 6)\n",
    "print(nums[nums < 6]) "
   ]
  },
  {
   "cell_type": "code",
   "execution_count": null,
   "id": "2ea71f4a-f4c0-4f3b-b9b8-df2f5c7b4b35",
   "metadata": {},
   "outputs": [],
   "source": []
  }
 ],
 "metadata": {
  "kernelspec": {
   "display_name": "Python [conda env:anaconda3]",
   "language": "python",
   "name": "conda-env-anaconda3-py"
  },
  "language_info": {
   "codemirror_mode": {
    "name": "ipython",
    "version": 3
   },
   "file_extension": ".py",
   "mimetype": "text/x-python",
   "name": "python",
   "nbconvert_exporter": "python",
   "pygments_lexer": "ipython3",
   "version": "3.12.7"
  }
 },
 "nbformat": 4,
 "nbformat_minor": 5
}
