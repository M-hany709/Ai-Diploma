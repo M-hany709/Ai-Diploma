{
 "cells": [
  {
   "cell_type": "code",
   "execution_count": 10,
   "id": "5bae852f-42e5-412d-8625-ab2acb606cbd",
   "metadata": {},
   "outputs": [
    {
     "name": "stdout",
     "output_type": "stream",
     "text": [
      "please enter the height of triangle:\n"
     ]
    },
    {
     "name": "stdin",
     "output_type": "stream",
     "text": [
      " 5.6\n"
     ]
    },
    {
     "name": "stdout",
     "output_type": "stream",
     "text": [
      "\n",
      " please enter the base of the triangle:\n"
     ]
    },
    {
     "name": "stdin",
     "output_type": "stream",
     "text": [
      " 33.344\n"
     ]
    },
    {
     "name": "stdout",
     "output_type": "stream",
     "text": [
      "\n",
      " the Area of the triangle= 93.36319999999999\n"
     ]
    }
   ],
   "source": [
    "print(\"please enter the height of triangle:\")\n",
    "h=float(input())\n",
    "print(\"\\n please enter the base of the triangle:\")\n",
    "b=float(input())\n",
    "print(\"\\n the Area of the triangle=\" , 0.5*b*h )\n"
   ]
  },
  {
   "cell_type": "code",
   "execution_count": 20,
   "id": "d92a7a22-5ba4-4b3b-b502-faf3a2956fdb",
   "metadata": {},
   "outputs": [
    {
     "name": "stdout",
     "output_type": "stream",
     "text": [
      "enter x=\n"
     ]
    },
    {
     "name": "stdin",
     "output_type": "stream",
     "text": [
      " 4\n"
     ]
    },
    {
     "name": "stdout",
     "output_type": "stream",
     "text": [
      "\n",
      " enter y=\n"
     ]
    },
    {
     "name": "stdin",
     "output_type": "stream",
     "text": [
      " 7\n"
     ]
    },
    {
     "name": "stdout",
     "output_type": "stream",
     "text": [
      "\n",
      " after swap x= 7   y= 4\n"
     ]
    }
   ],
   "source": [
    "print(\"enter x=\")\n",
    "x=int(input())\n",
    "print(\"\\n enter y=\")\n",
    "y=int(input())\n",
    "z=x\n",
    "x=y\n",
    "y=z\n",
    "print(\"\\n after swap x=\",x,\" \",\"y=\",y)\n"
   ]
  },
  {
   "cell_type": "code",
   "execution_count": 22,
   "id": "e854c69a-2041-4e94-a997-0abcd5cc0e18",
   "metadata": {},
   "outputs": [
    {
     "name": "stdout",
     "output_type": "stream",
     "text": [
      "enter number in kilometer:\n"
     ]
    },
    {
     "name": "stdin",
     "output_type": "stream",
     "text": [
      " 1000\n"
     ]
    },
    {
     "name": "stdout",
     "output_type": "stream",
     "text": [
      "the number in meter= 1000000.0\n"
     ]
    }
   ],
   "source": [
    "print(\"enter number in kilometer:\")\n",
    "x=float(input())\n",
    "x*=1000\n",
    "print(\"the number in meter=\",x)"
   ]
  },
  {
   "cell_type": "code",
   "execution_count": null,
   "id": "d540ce8f-f367-4e3f-9bdd-2e2f666b566f",
   "metadata": {},
   "outputs": [],
   "source": []
  }
 ],
 "metadata": {
  "kernelspec": {
   "display_name": "anaconda-panel-2023.05-py310",
   "language": "python",
   "name": "conda-env-anaconda-panel-2023.05-py310-py"
  },
  "language_info": {
   "codemirror_mode": {
    "name": "ipython",
    "version": 3
   },
   "file_extension": ".py",
   "mimetype": "text/x-python",
   "name": "python",
   "nbconvert_exporter": "python",
   "pygments_lexer": "ipython3",
   "version": "3.11.5"
  }
 },
 "nbformat": 4,
 "nbformat_minor": 5
}
