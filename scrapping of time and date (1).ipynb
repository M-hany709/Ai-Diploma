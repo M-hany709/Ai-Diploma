{
 "cells": [
  {
   "cell_type": "code",
   "execution_count": 1,
   "id": "dccf5b9a-a457-4331-9a4e-7290e408f91f",
   "metadata": {},
   "outputs": [],
   "source": [
    "import csv\n",
    "import requests\n",
    "from bs4 import BeautifulSoup\n",
    "\n",
    "csvfile = open(\"time and date.csv\", \"w\", encoding=\"utf-8\", newline='')\n",
    "writer = csv.writer(csvfile)\n",
    "writer.writerow([\"countrys\", \"time\", \"temperature\"])\n",
    "\n",
    "website = requests.get(\"https://www.timeanddate.com/weather/?sort=1\")\n",
    "mywebsite = BeautifulSoup(website.text, \"html.parser\")\n",
    "\n",
    "table = mywebsite.find(\"table\", class_=\"zebra fw tb-theme\")\n",
    "\n",
    "rows = table.find_all(\"tr\")[1:]\n",
    "\n",
    "for row in rows:\n",
    "    cols = row.find_all(\"td\")\n",
    "    if len(cols) >= 4:\n",
    "        countrys = cols[0].text.strip()\n",
    "        time = cols[1].text.strip()\n",
    "        temperature = cols[3].text.strip().replace('\\xa0',' ')\n",
    "        writer.writerow([countrys, time, temperature])\n",
    "    else:\n",
    "        writer.writerow([\"N/A\", \"N/A\", \"N/A\"])  \n",
    "csvfile.close()"
   ]
  },
  {
   "cell_type": "code",
   "execution_count": null,
   "id": "20392594-5485-482c-b735-1a3bc5fd59da",
   "metadata": {},
   "outputs": [],
   "source": []
  }
 ],
 "metadata": {
  "kernelspec": {
   "display_name": "Python 3 (ipykernel)",
   "language": "python",
   "name": "python3"
  },
  "language_info": {
   "codemirror_mode": {
    "name": "ipython",
    "version": 3
   },
   "file_extension": ".py",
   "mimetype": "text/x-python",
   "name": "python",
   "nbconvert_exporter": "python",
   "pygments_lexer": "ipython3",
   "version": "3.13.2"
  }
 },
 "nbformat": 4,
 "nbformat_minor": 5
}
