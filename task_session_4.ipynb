{
  "nbformat": 4,
  "nbformat_minor": 0,
  "metadata": {
    "colab": {
      "provenance": []
    },
    "kernelspec": {
      "name": "python3",
      "display_name": "Python 3"
    },
    "language_info": {
      "name": "python"
    }
  },
  "cells": [
    {
      "cell_type": "code",
      "execution_count": null,
      "metadata": {
        "colab": {
          "base_uri": "https://localhost:8080/"
        },
        "id": "cySqBdl26Fkb",
        "outputId": "9922e4ea-80d9-4c68-eb0d-be5271e40a3f"
      },
      "outputs": [
        {
          "output_type": "stream",
          "name": "stdout",
          "text": [
            "nour\n",
            "the lenght of the string by method 1= 4\n",
            "the lenght of the string by method 2= 4\n"
          ]
        }
      ],
      "source": [
        "x=input()\n",
        "print(\"the lenght of the string by method 1=\",len(x))\n",
        "\n",
        "y=list(x)\n",
        "y.sort()\n",
        "c=max(y)\n",
        "print(\"the lenght of the string by method 2=\",(y.index(c))+1)\n",
        "\n"
      ]
    },
    {
      "cell_type": "code",
      "source": [
        "arr=[[1,2,3],[2,1,2],[3,2,1]]\n",
        "sort_by_col0=sorted(arr,key=lambda x:x[0])\n",
        "print(sort_by_col0)\n",
        "sort_by_col1=sorted(arr,key=lambda x:x[1])\n",
        "print(sort_by_col1)\n",
        "sort_by_col2=sorted(arr,key=lambda x:x[2])\n",
        "print(sort_by_col2)"
      ],
      "metadata": {
        "colab": {
          "base_uri": "https://localhost:8080/"
        },
        "id": "srESFnioAVt9",
        "outputId": "dd67ec12-0e14-4819-aab8-a2edba5fee5b"
      },
      "execution_count": null,
      "outputs": [
        {
          "output_type": "stream",
          "name": "stdout",
          "text": [
            "[[1, 2, 3], [2, 1, 2], [3, 2, 1]]\n",
            "[[2, 1, 2], [1, 2, 3], [3, 2, 1]]\n",
            "[[3, 2, 1], [2, 1, 2], [1, 2, 3]]\n"
          ]
        }
      ]
    },
    {
      "cell_type": "code",
      "source": [
        "x=input()\n",
        "if len(x)<2:\n",
        "  print(\"Empty String\")\n",
        "elif len(x)==2:\n",
        "  print(x+x)\n",
        "else:\n",
        "  c=list(x)\n",
        "  c.sort()\n",
        "  v=max(c)\n",
        "  i=c.index(v)\n",
        "  print(x[0:2]+x[i-1:i+1])"
      ],
      "metadata": {
        "colab": {
          "base_uri": "https://localhost:8080/"
        },
        "id": "JL1k8l1VAt7-",
        "outputId": "27399d51-02cd-420b-e8c1-d8e7424b207d"
      },
      "execution_count": null,
      "outputs": [
        {
          "output_type": "stream",
          "name": "stdout",
          "text": [
            "mennahany\n",
            "meny\n"
          ]
        }
      ]
    },
    {
      "cell_type": "code",
      "source": [
        "x=input()\n",
        "i=len(x)\n",
        "if i<3:\n",
        "  print(x)\n",
        "else:\n",
        "  if x.endswith(\"ing\"):\n",
        "    print(x+\"ly\")\n",
        "  else:\n",
        "    print(x+\"ing\")\n",
        "\n"
      ],
      "metadata": {
        "colab": {
          "base_uri": "https://localhost:8080/"
        },
        "id": "uZkRbObVEIaC",
        "outputId": "cd6569e4-4a42-4eab-95a0-b373310dc4f7"
      },
      "execution_count": null,
      "outputs": [
        {
          "output_type": "stream",
          "name": "stdout",
          "text": [
            "playing\n",
            "playingly\n"
          ]
        }
      ]
    },
    {
      "cell_type": "code",
      "source": [
        "def long_word(x):\n",
        "  max_word=x[0]\n",
        "  c=0\n",
        "  for i in range(1,len(x)):\n",
        "    if len(max_word)<len(x[i]):\n",
        "      max_word=x[i]\n",
        "  return max_word\n",
        "\n",
        "y=input().split()\n",
        "k=long_word(y)\n",
        "print(\"Longest word is:\",k,\"lenght of the longest word:\",len(k))\n"
      ],
      "metadata": {
        "colab": {
          "base_uri": "https://localhost:8080/"
        },
        "id": "vGqCrO6sIH3s",
        "outputId": "1a2ca8f1-efee-431b-fa51-4cace870d805"
      },
      "execution_count": null,
      "outputs": [
        {
          "output_type": "stream",
          "name": "stdout",
          "text": [
            "menna nour adam abdullah\n",
            "Longest word is: abdullah lenght of the longest word: 8\n"
          ]
        }
      ]
    },
    {
      "cell_type": "code",
      "source": [
        "x=\"abca\"\n",
        "print(\"the first method:\",x.replace(\"a\",\"e\"))\n",
        "\n",
        "\n",
        "print(\"the second method:\",\"e\"+x[1:3]+\"e\")"
      ],
      "metadata": {
        "colab": {
          "base_uri": "https://localhost:8080/"
        },
        "id": "A0nF2M-1oB2t",
        "outputId": "e0fb710d-b2d6-4d0b-c917-2641c8edaebe"
      },
      "execution_count": null,
      "outputs": [
        {
          "output_type": "stream",
          "name": "stdout",
          "text": [
            "the first method: ebce\n",
            "the second method: ebce\n"
          ]
        }
      ]
    },
    {
      "cell_type": "code",
      "source": [
        "x=input().split()\n",
        "y=input(\"enter the word want to count:\")\n",
        "print(x.count(y))"
      ],
      "metadata": {
        "colab": {
          "base_uri": "https://localhost:8080/"
        },
        "id": "LNLJCOKMvPrw",
        "outputId": "77f355ef-6f73-4a2d-90f3-c6514f843adf"
      },
      "execution_count": null,
      "outputs": [
        {
          "output_type": "stream",
          "name": "stdout",
          "text": [
            "i love the winter but the winter is very cold\n",
            "enter the word want to count:winter\n",
            "2\n"
          ]
        }
      ]
    },
    {
      "cell_type": "code",
      "source": [
        "x=input()\n",
        "print(x.upper())\n",
        "print(x.lower())"
      ],
      "metadata": {
        "colab": {
          "base_uri": "https://localhost:8080/"
        },
        "id": "6nbkvz_nwJEq",
        "outputId": "d1fff211-6be0-4808-821e-0e877a5b19a6"
      },
      "execution_count": null,
      "outputs": [
        {
          "output_type": "stream",
          "name": "stdout",
          "text": [
            "Menna\n",
            "MENNA\n",
            "menna\n"
          ]
        }
      ]
    },
    {
      "cell_type": "code",
      "source": [
        "x=input()\n",
        "if len(x)%4==0:\n",
        "  print(x[-1:-len(x)-1:-1])\n",
        "else:\n",
        "  print(x)\n"
      ],
      "metadata": {
        "colab": {
          "base_uri": "https://localhost:8080/"
        },
        "id": "WfDNnkVHwf8q",
        "outputId": "1ce4085a-4ae9-428d-bbd0-924c11be9896"
      },
      "execution_count": null,
      "outputs": [
        {
          "output_type": "stream",
          "name": "stdout",
          "text": [
            "nour\n",
            "ruon\n"
          ]
        }
      ]
    },
    {
      "cell_type": "code",
      "source": [
        "x=input()\n",
        "if x[0].isalnum():\n",
        "  print(\"not start with special char\")\n",
        "else:\n",
        "  print(\"start with special char\")"
      ],
      "metadata": {
        "colab": {
          "base_uri": "https://localhost:8080/"
        },
        "id": "pUdVny4lxuxi",
        "outputId": "3210774d-87cf-4e6b-c4f0-c7a9ab5e53d3"
      },
      "execution_count": null,
      "outputs": [
        {
          "output_type": "stream",
          "name": "stdout",
          "text": [
            "+postivie\n",
            "start with special char\n"
          ]
        }
      ]
    },
    {
      "cell_type": "code",
      "source": [
        "\n",
        "\n"
      ],
      "metadata": {
        "id": "aKOFecs2Aqow"
      },
      "execution_count": null,
      "outputs": []
    },
    {
      "cell_type": "code",
      "source": [
        "x=input()\n",
        "print(x.replace(\" \",\"\"))"
      ],
      "metadata": {
        "id": "MBn4hvxbx_wk",
        "colab": {
          "base_uri": "https://localhost:8080/"
        },
        "outputId": "2d373d40-7172-4dcf-afc7-5db8e197a683"
      },
      "execution_count": null,
      "outputs": [
        {
          "output_type": "stream",
          "name": "stdout",
          "text": [
            "menna hany\n",
            "mennahany\n"
          ]
        }
      ]
    },
    {
      "cell_type": "code",
      "source": [
        "x=input().split()\n",
        "y=len(x)-1\n",
        "tem=x[0]\n",
        "x[0]=x[y]\n",
        "x[y]=tem\n",
        "print(x)\n"
      ],
      "metadata": {
        "colab": {
          "base_uri": "https://localhost:8080/"
        },
        "id": "_4FObEl0FR-6",
        "outputId": "b8a8df3b-efa0-4181-e583-8e9513f11375"
      },
      "execution_count": null,
      "outputs": [
        {
          "output_type": "stream",
          "name": "stdout",
          "text": [
            "1 2 3 4 5\n",
            "['5', '2', '3', '4', '1']\n"
          ]
        }
      ]
    },
    {
      "cell_type": "code",
      "source": [
        "x=[19,65,23,90]\n",
        "tem=x[0]\n",
        "x[0]=x[2]\n",
        "x[2]=tem\n",
        "print(x)"
      ],
      "metadata": {
        "colab": {
          "base_uri": "https://localhost:8080/"
        },
        "id": "WCTjaM0qGt7b",
        "outputId": "c40d2dd0-33fb-4dcc-bc57-27980b9ced57"
      },
      "execution_count": null,
      "outputs": [
        {
          "output_type": "stream",
          "name": "stdout",
          "text": [
            "[23, 65, 19, 90]\n"
          ]
        }
      ]
    },
    {
      "cell_type": "code",
      "source": [
        "x=input().split()\n",
        "print(\"the maximam of the list\",max(x))"
      ],
      "metadata": {
        "colab": {
          "base_uri": "https://localhost:8080/"
        },
        "id": "FzDhf00kHpDu",
        "outputId": "c5ae9023-d21d-45f8-901a-1108fed15ef5"
      },
      "execution_count": null,
      "outputs": [
        {
          "output_type": "stream",
          "name": "stdout",
          "text": [
            "7 4 2 3\n",
            "the maximam of the list 7\n"
          ]
        }
      ]
    },
    {
      "cell_type": "code",
      "source": [
        "x=input().split()\n",
        "print(\"the minumun of the list:\",min(x))\n"
      ],
      "metadata": {
        "colab": {
          "base_uri": "https://localhost:8080/"
        },
        "id": "3aIUjSJiIZWP",
        "outputId": "e38db9d2-8aa1-47c8-9802-5ddf7acbd95f"
      },
      "execution_count": null,
      "outputs": [
        {
          "output_type": "stream",
          "name": "stdout",
          "text": [
            "1 2 3 4 5\n",
            "the minumun of the list: 1\n"
          ]
        }
      ]
    },
    {
      "cell_type": "code",
      "source": [
        "x=[1,2,3,4]\n",
        "y=3\n",
        "for i in range (0,4):\n",
        "    c=0\n",
        "    if x[i]==y:\n",
        "      c+=1\n",
        "      break\n",
        "if c>0:\n",
        "  print(\"the number is exiting\")\n",
        "else:\n",
        "  print(\"the number not exiting\")"
      ],
      "metadata": {
        "colab": {
          "base_uri": "https://localhost:8080/"
        },
        "id": "LwQe5lu5IygS",
        "outputId": "52f1180b-d74d-4202-94c3-c05edd145383"
      },
      "execution_count": null,
      "outputs": [
        {
          "output_type": "stream",
          "name": "stdout",
          "text": [
            "the number is exiting\n"
          ]
        }
      ]
    },
    {
      "cell_type": "code",
      "source": [
        "x=[1,2,3,4]\n",
        "print(\"the first method:\",x.clear())\n",
        "\n",
        "y=[1,2,3,4]\n",
        "c=1\n",
        "for i in range(0,4):\n",
        "  y.remove(c)\n",
        "  c+=1\n",
        "print(\"the second method:\",y)"
      ],
      "metadata": {
        "colab": {
          "base_uri": "https://localhost:8080/"
        },
        "id": "W9rPlmQXLFwk",
        "outputId": "f627f648-8483-4768-b374-619391de4412"
      },
      "execution_count": null,
      "outputs": [
        {
          "output_type": "stream",
          "name": "stdout",
          "text": [
            "the first method: None\n",
            "the second method: []\n"
          ]
        }
      ]
    },
    {
      "cell_type": "code",
      "source": [
        "test_list=[\"Gfg\",3,\"is\",8]\n",
        "key_list=[\"name\",\"id\"]\n",
        "l=[]\n",
        "d1=dict(zip(key_list[:],test_list[:2]))\n",
        "d2=dict(zip(key_list[:],test_list[2:]))\n",
        "l.append(d1)\n",
        "l.append(d2)\n",
        "print(l)\n"
      ],
      "metadata": {
        "colab": {
          "base_uri": "https://localhost:8080/"
        },
        "outputId": "5b031517-2e1c-45bf-decf-f0b462433b85",
        "id": "ErkFkDF6v8bj"
      },
      "execution_count": null,
      "outputs": [
        {
          "output_type": "stream",
          "name": "stdout",
          "text": [
            "[{'name': 'Gfg', 'id': 3}, {'name': 'is', 'id': 8}]\n"
          ]
        }
      ]
    },
    {
      "cell_type": "code",
      "source": [
        "x=input().split()\n",
        "l=0\n",
        "while l<=len(x)-1:\n",
        "  c=0\n",
        "  for i in range(0,len(x)):\n",
        "    if x[l]==x[i]:\n",
        "      c+=1\n",
        "  if c==1:\n",
        "    print(\"by first method\",x[l])\n",
        "  l+=1\n",
        "\n",
        "for i in range(0,len(x)):\n",
        "  if x.count(x[i])==1:\n",
        "    print(\"by the second method:\",x[i])\n",
        "\n",
        "\n",
        "\n",
        "\n"
      ],
      "metadata": {
        "colab": {
          "base_uri": "https://localhost:8080/"
        },
        "id": "SQnhXOH7rHRq",
        "outputId": "0ed8ec15-9bb3-433e-d32e-b769ef869d72"
      },
      "execution_count": null,
      "outputs": [
        {
          "output_type": "stream",
          "name": "stdout",
          "text": [
            "1 2 3 4 2 3\n",
            "by first method 1\n",
            "by first method 4\n",
            "by the second method: 1\n",
            "by the second method: 4\n"
          ]
        }
      ]
    },
    {
      "cell_type": "code",
      "source": [
        "x=input().split()\n",
        "y=int(input(\"enter the number of the frequency\"))\n",
        "l=[]\n",
        "for i in range(0,len(x)):\n",
        "  if x.count(x[i])>y:\n",
        "    l.append(x[i])\n",
        "\n",
        "s=set(l)\n",
        "\n",
        "print(s)\n"
      ],
      "metadata": {
        "colab": {
          "base_uri": "https://localhost:8080/"
        },
        "id": "57HQ0HUGthFS",
        "outputId": "5ea01442-1c2c-41d9-dc18-03ea7bebc379"
      },
      "execution_count": null,
      "outputs": [
        {
          "output_type": "stream",
          "name": "stdout",
          "text": [
            "1 2 3 4 2 3\n",
            "enter the number of the frequency1\n",
            "{'2', '3'}\n"
          ]
        }
      ]
    },
    {
      "cell_type": "code",
      "source": [
        "x=input().split()\n",
        "l=[]\n",
        "for i in range(0,len(x)-1):\n",
        "  if x[i]>x[i+1]:\n",
        "    l.append(x[i])\n",
        "  else:\n",
        "    l.append(x[i+1])\n",
        "print(l)"
      ],
      "metadata": {
        "colab": {
          "base_uri": "https://localhost:8080/"
        },
        "id": "RAJAYoZH7XzP",
        "outputId": "8877b2c9-31a6-4001-88fa-45ff7c6476e4"
      },
      "execution_count": null,
      "outputs": [
        {
          "output_type": "stream",
          "name": "stdout",
          "text": [
            "1 2 2 3 4 5\n",
            "['2', '2', '3', '4', '5']\n"
          ]
        }
      ]
    },
    {
      "cell_type": "code",
      "source": [
        "x=1\n",
        "y=2\n",
        "z=3\n",
        "print(x,y,z)\n",
        "print(x,z,y)\n",
        "print(y,x,z)\n",
        "print(y,z,x)\n",
        "print(z,x,y)\n",
        "print(z,y,x)\n"
      ],
      "metadata": {
        "colab": {
          "base_uri": "https://localhost:8080/"
        },
        "id": "cGO4xhhaB4XZ",
        "outputId": "7cd392c9-92d5-4715-9c9e-0ad53cbb5bdc"
      },
      "execution_count": null,
      "outputs": [
        {
          "output_type": "stream",
          "name": "stdout",
          "text": [
            "1 2 3\n",
            "1 3 2\n",
            "2 1 3\n",
            "2 3 1\n",
            "3 1 2\n",
            "3 2 1\n"
          ]
        }
      ]
    },
    {
      "cell_type": "code",
      "source": [
        "l1=[0,1,2,1,0,0,0,2,1,1,2,0]\n",
        "l2=[\"Gfg\",\"is\",\"best\"]\n",
        "l3=[]\n",
        "for i in range(0,len(l1)):\n",
        "  if l1[i]==0:\n",
        "    l3.append(l2[0])\n",
        "  elif l1[i]==1:\n",
        "    l3.append(l2[1])\n",
        "  else:\n",
        "    l3.append(l2[2])\n",
        "print(l3)"
      ],
      "metadata": {
        "colab": {
          "base_uri": "https://localhost:8080/"
        },
        "id": "fh_GCGVAJR5L",
        "outputId": "e1325be5-d7bd-4adf-ceae-619abf3c691b"
      },
      "execution_count": null,
      "outputs": [
        {
          "output_type": "stream",
          "name": "stdout",
          "text": [
            "['Gfg', 'is', 'best', 'is', 'Gfg', 'Gfg', 'Gfg', 'best', 'is', 'is', 'best', 'Gfg']\n"
          ]
        }
      ]
    },
    {
      "cell_type": "code",
      "source": [
        "test_list=[(4,5,5,4),(5,4,3)]\n",
        "l1=[]\n",
        "l2=[]\n",
        "for i in range(0,len(test_list)):\n",
        "  if test_list[i].count(5)==2:\n",
        "    l1.append(test_list[i])\n",
        "for i in range(0,len(test_list)):\n",
        "  if test_list[i].count(5)==3:\n",
        "    l2.append(test_list[i])\n",
        "print(l1)\n",
        "print(l2)\n"
      ],
      "metadata": {
        "colab": {
          "base_uri": "https://localhost:8080/"
        },
        "id": "JcEWs82VK8pP",
        "outputId": "fac69d06-705e-4e4c-8211-ebf7a8748da8"
      },
      "execution_count": null,
      "outputs": [
        {
          "output_type": "stream",
          "name": "stdout",
          "text": [
            "[(4, 5, 5, 4)]\n",
            "[]\n"
          ]
        }
      ]
    },
    {
      "cell_type": "code",
      "source": [
        "t=(1,2,3,4,5)\n",
        "x=int(input(\"enter item to print:\"))\n",
        "print(t[x])"
      ],
      "metadata": {
        "id": "NT7XKH_AT0iS",
        "colab": {
          "base_uri": "https://localhost:8080/"
        },
        "outputId": "f6720fd2-5d77-408c-b933-4b5133cd70c2"
      },
      "execution_count": null,
      "outputs": [
        {
          "output_type": "stream",
          "name": "stdout",
          "text": [
            "enter item to print:2\n",
            "3\n"
          ]
        }
      ]
    },
    {
      "cell_type": "code",
      "source": [
        "t=('menna',21,'female')\n",
        "name,age,gender=t\n",
        "print(name,\" \",age,\" \",gender)"
      ],
      "metadata": {
        "colab": {
          "base_uri": "https://localhost:8080/"
        },
        "id": "vTvoDhjYRYYC",
        "outputId": "75f1849d-8c6b-46d5-fdbe-59b2695d85b6"
      },
      "execution_count": null,
      "outputs": [
        {
          "output_type": "stream",
          "name": "stdout",
          "text": [
            "menna   21   female\n"
          ]
        }
      ]
    },
    {
      "cell_type": "code",
      "source": [
        "t1=(\"menna\",3,2004)\n",
        "t2=('cs',)\n",
        "t3=t1+t2\n",
        "print(t3)"
      ],
      "metadata": {
        "colab": {
          "base_uri": "https://localhost:8080/"
        },
        "id": "m7XyftehSHte",
        "outputId": "992b6b07-db4e-48fe-8b62-3c253d86170f"
      },
      "execution_count": null,
      "outputs": [
        {
          "output_type": "stream",
          "name": "stdout",
          "text": [
            "('menna', 3, 2004, 'cs')\n"
          ]
        }
      ]
    },
    {
      "cell_type": "code",
      "source": [
        "t=(\"menna\",\"hany\")\n",
        "n1,n2=t\n",
        "print(n1+n2)"
      ],
      "metadata": {
        "colab": {
          "base_uri": "https://localhost:8080/"
        },
        "id": "j2dUyJTwUEq2",
        "outputId": "f8fb9587-3b30-4764-95f8-7ccc94e25e76"
      },
      "execution_count": null,
      "outputs": [
        {
          "output_type": "stream",
          "name": "stdout",
          "text": [
            "mennahany\n"
          ]
        }
      ]
    },
    {
      "cell_type": "code",
      "source": [
        "l=[1,2,3,4]\n",
        "t=tuple(l)\n",
        "print(t)"
      ],
      "metadata": {
        "colab": {
          "base_uri": "https://localhost:8080/"
        },
        "id": "_ogDQmffVBYr",
        "outputId": "3a8be969-d430-49f1-b9a1-40be807921e4"
      },
      "execution_count": null,
      "outputs": [
        {
          "output_type": "stream",
          "name": "stdout",
          "text": [
            "(1, 2, 3, 4)\n"
          ]
        }
      ]
    },
    {
      "cell_type": "code",
      "source": [
        "t=(1,2,3,4,5)\n",
        "t2=(t[-1::-1])\n",
        "print(t2)"
      ],
      "metadata": {
        "colab": {
          "base_uri": "https://localhost:8080/"
        },
        "id": "SDO1YlPKVaLg",
        "outputId": "9eb5923b-02a5-4f58-e5dc-b03c37515c54"
      },
      "execution_count": null,
      "outputs": [
        {
          "output_type": "stream",
          "name": "stdout",
          "text": [
            "(5, 4, 3, 2, 1)\n"
          ]
        }
      ]
    },
    {
      "cell_type": "code",
      "source": [
        "l=[(1,2,3),(4,5,6),(7,8,9)]\n",
        "l0=list(l[0])\n",
        "l1=list(l[1])\n",
        "l2=list(l[2])\n",
        "l0[2]=100\n",
        "l1[2]=100\n",
        "l2[2]=100\n",
        "t1=tuple(l0)\n",
        "t2=tuple(l1)\n",
        "t3=tuple(l2)\n",
        "newlist=[t1,t2,t3]\n",
        "print(newlist)"
      ],
      "metadata": {
        "colab": {
          "base_uri": "https://localhost:8080/"
        },
        "id": "W25zlr8jVtoB",
        "outputId": "5020279d-4e9e-4d98-d1f6-70ccf1a52a68"
      },
      "execution_count": null,
      "outputs": [
        {
          "output_type": "stream",
          "name": "stdout",
          "text": [
            "[(1, 2, 100), (4, 5, 100), (7, 8, 100)]\n"
          ]
        }
      ]
    },
    {
      "cell_type": "code",
      "source": [
        "l=[1,2,3,4,5,6,-1]\n",
        "l1=[]\n",
        "for i in range(0,len(l)):\n",
        "  l2=[]\n",
        "  for r in range(0,len(l)):\n",
        "    if l[i]+l[r]==5:\n",
        "      l2.append(l[i])\n",
        "      l2.append(l[r])\n",
        "      l1.append(l2)\n",
        "print(l1)\n",
        "\n",
        "\n",
        "\n"
      ],
      "metadata": {
        "id": "G_4pWKDqZQrd",
        "colab": {
          "base_uri": "https://localhost:8080/"
        },
        "outputId": "74f8dc20-1842-4f3e-c9b6-a3e0f508a43d"
      },
      "execution_count": null,
      "outputs": [
        {
          "output_type": "stream",
          "name": "stdout",
          "text": [
            "[[1, 4], [2, 3], [3, 2], [4, 1], [6, -1], [-1, 6]]\n"
          ]
        }
      ]
    },
    {
      "cell_type": "code",
      "source": [
        "s={1,2,3,4,5}\n",
        "print(\"the maximum value:\",max(s))\n",
        "print(\"the minimum value:\",min(s))"
      ],
      "metadata": {
        "colab": {
          "base_uri": "https://localhost:8080/"
        },
        "id": "1LYZ3kD0ST2H",
        "outputId": "c1910759-6fb9-4944-fa97-01fbc3bf20b4"
      },
      "execution_count": null,
      "outputs": [
        {
          "output_type": "stream",
          "name": "stdout",
          "text": [
            "the maximum value: 5\n",
            "the minimum value: 1\n"
          ]
        }
      ]
    },
    {
      "cell_type": "code",
      "source": [
        "s1={1,2,3,4,5,6}\n",
        "s2={4,5,6,7,8,9}\n",
        "print(\"the union=\",s1|s2)\n",
        "print(\"the intersection=\",s1&s2)\n",
        "print(\"the difference:\",s1-s2)\n",
        "print(\"the unique:\",s1^s2)"
      ],
      "metadata": {
        "colab": {
          "base_uri": "https://localhost:8080/"
        },
        "id": "rxya4gQAUmlR",
        "outputId": "3bd19465-3d65-4fc8-eabe-c8b0cd477299"
      },
      "execution_count": null,
      "outputs": [
        {
          "output_type": "stream",
          "name": "stdout",
          "text": [
            "the union= {1, 2, 3, 4, 5, 6, 7, 8, 9}\n",
            "the intersection= {4, 5, 6}\n",
            "the difference: {1, 2, 3}\n",
            "the unique: {1, 2, 3, 7, 8, 9}\n"
          ]
        }
      ]
    },
    {
      "cell_type": "code",
      "source": [
        "s={1,2,3,4,5}\n",
        "x=int(input(\"enter item to remove:\"))\n",
        "s.remove(x)\n",
        "print(s)"
      ],
      "metadata": {
        "colab": {
          "base_uri": "https://localhost:8080/"
        },
        "id": "1iJn5hf7VtWR",
        "outputId": "2ab61561-26b7-4365-e530-d0b55391795c"
      },
      "execution_count": null,
      "outputs": [
        {
          "output_type": "stream",
          "name": "stdout",
          "text": [
            "enter item to remove:3\n",
            "{1, 2, 4, 5}\n"
          ]
        }
      ]
    },
    {
      "cell_type": "code",
      "source": [
        "s={1,2,3,4}\n",
        "x=input(\"enter any memeber to the set:\")\n",
        "s.add(x)\n",
        "print(s)"
      ],
      "metadata": {
        "colab": {
          "base_uri": "https://localhost:8080/"
        },
        "id": "sWtpy8NvXKnr",
        "outputId": "6b654e61-aa08-4d33-d37d-46d3fc68eae9"
      },
      "execution_count": null,
      "outputs": [
        {
          "output_type": "stream",
          "name": "stdout",
          "text": [
            "enter any memeber to the set:a\n",
            "{1, 2, 3, 4, 'a'}\n"
          ]
        }
      ]
    },
    {
      "cell_type": "code",
      "source": [
        "t=(1,2,3,4,5)\n",
        "sum=0\n",
        "for i in range(0,len(t)):\n",
        "  sum+=t[i]\n",
        "print(\"the average:\",sum/len(t))\n",
        "\n"
      ],
      "metadata": {
        "colab": {
          "base_uri": "https://localhost:8080/"
        },
        "id": "RtxaD2zTYSc8",
        "outputId": "9c596908-125b-485c-b291-3d001f347bca"
      },
      "execution_count": null,
      "outputs": [
        {
          "output_type": "stream",
          "name": "stdout",
          "text": [
            "the average: 3.0\n"
          ]
        }
      ]
    },
    {
      "cell_type": "code",
      "source": [
        "s=\"hello\"\n",
        "t=tuple(s)\n",
        "print(t)"
      ],
      "metadata": {
        "colab": {
          "base_uri": "https://localhost:8080/"
        },
        "id": "i_sDAT74ZR7G",
        "outputId": "2fae13bd-daa3-4303-e61f-ad21291477bc"
      },
      "execution_count": null,
      "outputs": [
        {
          "output_type": "stream",
          "name": "stdout",
          "text": [
            "('h', 'e', 'l', 'l', 'o')\n"
          ]
        }
      ]
    },
    {
      "cell_type": "code",
      "source": [
        "d={'a':1,'b':2,'c':3,'d':None}\n",
        "for key,value in list(d.items()):\n",
        "  if value is None:\n",
        "    d.pop(key)\n",
        "print(d)\n"
      ],
      "metadata": {
        "colab": {
          "base_uri": "https://localhost:8080/"
        },
        "id": "Dx1E2Fs9ZtMy",
        "outputId": "d7a86b4a-bd12-43e0-ef28-1655563e4a7c"
      },
      "execution_count": null,
      "outputs": [
        {
          "output_type": "stream",
          "name": "stdout",
          "text": [
            "{'a': 1, 'b': 2, 'c': 3}\n"
          ]
        }
      ]
    },
    {
      "cell_type": "code",
      "source": [
        "d={'a':5,'b':2,'c':3,'d':3}\n",
        "maxvalue=max(d.values())\n",
        "minvalue=min(d.values())\n",
        "print(\"the maximum value:\",maxvalue)\n",
        "print(\"the minmum value\",minvalue)"
      ],
      "metadata": {
        "colab": {
          "base_uri": "https://localhost:8080/"
        },
        "id": "SkreoPuOfC80",
        "outputId": "cf8dff12-bda1-4bc8-a58d-4ec8ef00fc39"
      },
      "execution_count": null,
      "outputs": [
        {
          "output_type": "stream",
          "name": "stdout",
          "text": [
            "the maximum value: 5\n",
            "the minmum value 2\n"
          ]
        }
      ]
    },
    {
      "cell_type": "code",
      "source": [
        "d1={'a':1,'b':2,'c':3}\n",
        "d2={'d':4,'e':5,'f':6}\n",
        "temp=d1\n",
        "d1=d2\n",
        "d2=temp\n",
        "print(d1)\n",
        "print(d2)"
      ],
      "metadata": {
        "id": "WvRdziQBhyfD",
        "colab": {
          "base_uri": "https://localhost:8080/"
        },
        "outputId": "b1f12c5f-d7e4-4771-f3e1-d9150e32804a"
      },
      "execution_count": null,
      "outputs": [
        {
          "output_type": "stream",
          "name": "stdout",
          "text": [
            "{'d': 4, 'e': 5, 'f': 6}\n",
            "{'a': 1, 'b': 2, 'c': 3}\n"
          ]
        }
      ]
    },
    {
      "cell_type": "code",
      "source": [
        "d={'name':'menna','age':21,'doplima':'ai'}\n",
        "for key,value in d.items():\n",
        "  print(f\"{key}:{value}\")"
      ],
      "metadata": {
        "colab": {
          "base_uri": "https://localhost:8080/"
        },
        "id": "w-pkDCXv30aF",
        "outputId": "f203e7d4-be83-4469-862a-fc9b2581f3a0"
      },
      "execution_count": null,
      "outputs": [
        {
          "output_type": "stream",
          "name": "stdout",
          "text": [
            "name:menna\n",
            "age:21\n",
            "doplima:ai\n"
          ]
        }
      ]
    },
    {
      "cell_type": "code",
      "source": [
        "d1={'a':1,'b':2,'c':3}\n",
        "d2={'d':4,'e':5,'f':6}\n",
        "d3={'g':7,'h':8,'l':9}\n",
        "all_d={\n",
        "    \"first\":d1,\n",
        "    \"second\":d2,\n",
        "    \"third\":d3\n",
        "      }\n",
        "print(all_d)"
      ],
      "metadata": {
        "colab": {
          "base_uri": "https://localhost:8080/"
        },
        "id": "6tVDnzDX6XDg",
        "outputId": "6bbd8106-491c-46c6-b65b-7128527cbaf5"
      },
      "execution_count": null,
      "outputs": [
        {
          "output_type": "stream",
          "name": "stdout",
          "text": [
            "{'first': {'a': 1, 'b': 2, 'c': 3}, 'second': {'d': 4, 'e': 5, 'f': 6}, 'third': {'g': 7, 'h': 8, 'l': 9}}\n"
          ]
        }
      ]
    },
    {
      "cell_type": "code",
      "source": [
        "d={'a':1,'b':3,'c':6,'f':11,'e':8}\n",
        "for key,value in list(d.items()):\n",
        "  if value>=7:\n",
        "    d.pop(key)\n",
        "print(d)"
      ],
      "metadata": {
        "colab": {
          "base_uri": "https://localhost:8080/"
        },
        "id": "sZlev-KY9w7T",
        "outputId": "5d538723-e12f-4e41-f767-bdd8a32cce40"
      },
      "execution_count": null,
      "outputs": [
        {
          "output_type": "stream",
          "name": "stdout",
          "text": [
            "{'a': 1, 'b': 3, 'c': 6}\n"
          ]
        }
      ]
    },
    {
      "cell_type": "code",
      "source": [
        "d={'a':6,'b':8,'c':3,'d':2,'e':5}\n",
        "sort_d=dict(sorted(d.items()))\n",
        "print(sort_d)\n"
      ],
      "metadata": {
        "colab": {
          "base_uri": "https://localhost:8080/"
        },
        "id": "u6X2UWxs-7rG",
        "outputId": "911d699f-1a42-42f9-ddb4-c484ad6bc357"
      },
      "execution_count": null,
      "outputs": [
        {
          "output_type": "stream",
          "name": "stdout",
          "text": [
            "{'a': 6, 'b': 8, 'c': 3, 'd': 2, 'e': 5}\n"
          ]
        }
      ]
    },
    {
      "cell_type": "code",
      "source": [
        "l=[1,2,3,4,1,2,4,5,6]\n",
        "s=set(l)\n",
        "l2=list(s)\n",
        "print(\"the list after remove the duplicated \",l2)"
      ],
      "metadata": {
        "id": "FOF60tEbPPqa",
        "colab": {
          "base_uri": "https://localhost:8080/"
        },
        "outputId": "ea4aa6ef-bca7-4453-85e9-563c815871a5"
      },
      "execution_count": null,
      "outputs": [
        {
          "output_type": "stream",
          "name": "stdout",
          "text": [
            "the list after remove the duplicated  [1, 2, 3, 4, 5, 6]\n"
          ]
        }
      ]
    },
    {
      "cell_type": "code",
      "source": [
        "l=[1,2,3,4,5,1,2,1]\n",
        "l2=[]\n",
        "for i in range(0,len(l)):\n",
        "  if l[i]!=1:\n",
        "    l2.append(l[i])\n",
        "print(l2)"
      ],
      "metadata": {
        "id": "W3x5vExKRxWR",
        "colab": {
          "base_uri": "https://localhost:8080/"
        },
        "outputId": "c1dc3f4d-463c-4248-dbb2-c58511ac1d74"
      },
      "execution_count": null,
      "outputs": [
        {
          "output_type": "stream",
          "name": "stdout",
          "text": [
            "[2, 3, 4, 5, 2]\n"
          ]
        }
      ]
    },
    {
      "cell_type": "code",
      "source": [
        "x=\"cat dog\"\n",
        "c=0\n",
        "for i in range(0,len(x)):\n",
        "  if x[i]!=\" \":\n",
        "    c+=1\n",
        "print(c)"
      ],
      "metadata": {
        "id": "6jXDh2fYRp0A",
        "colab": {
          "base_uri": "https://localhost:8080/"
        },
        "outputId": "18bf9d56-3259-4c76-9553-6bbda5d16f41"
      },
      "execution_count": null,
      "outputs": [
        {
          "output_type": "stream",
          "name": "stdout",
          "text": [
            "6\n"
          ]
        }
      ]
    },
    {
      "cell_type": "code",
      "source": [
        "x=\"AASNSOII\"\n",
        "for i in range(0,len(x)):\n",
        "  if x.count(x[i])==1:\n",
        "    print(x[i])\n",
        "    break"
      ],
      "metadata": {
        "colab": {
          "base_uri": "https://localhost:8080/"
        },
        "id": "v7Dte4cfeoyY",
        "outputId": "9b068b37-e1cd-4723-9539-b4645b881e84"
      },
      "execution_count": null,
      "outputs": [
        {
          "output_type": "stream",
          "name": "stdout",
          "text": [
            "N\n"
          ]
        }
      ]
    },
    {
      "cell_type": "code",
      "source": [
        "x=\"cat\"\n",
        "print(\"reverse string by first method:\",x[-1::-1])\n",
        "c=\" \"\n",
        "for i in range(len(x)-1,-1,-1):\n",
        "  c+=x[i]\n",
        "print(\"reverse string by second method\",c)"
      ],
      "metadata": {
        "colab": {
          "base_uri": "https://localhost:8080/"
        },
        "id": "rK05FtbShTEt",
        "outputId": "d02cd5f3-abd0-4780-ec24-c69fd4aeafec"
      },
      "execution_count": null,
      "outputs": [
        {
          "output_type": "stream",
          "name": "stdout",
          "text": [
            "reverse string by first method: tac\n",
            "reverse string by second method  tac\n"
          ]
        }
      ]
    },
    {
      "cell_type": "code",
      "source": [
        "x=int(input())\n",
        "print(f\"{x:,}\")"
      ],
      "metadata": {
        "colab": {
          "base_uri": "https://localhost:8080/"
        },
        "id": "f9rSKbZBjqZD",
        "outputId": "ce834c94-6196-47e2-bc72-e9279c96e8d8"
      },
      "execution_count": null,
      "outputs": [
        {
          "output_type": "stream",
          "name": "stdout",
          "text": [
            "100000\n",
            "100,000\n"
          ]
        }
      ]
    },
    {
      "cell_type": "code",
      "source": [
        "x=float(input())\n",
        "print(round(x,2))"
      ],
      "metadata": {
        "colab": {
          "base_uri": "https://localhost:8080/"
        },
        "id": "RxZR2lVfk_6c",
        "outputId": "c54327a4-3837-4f67-8492-d86aa2538956"
      },
      "execution_count": null,
      "outputs": [
        {
          "output_type": "stream",
          "name": "stdout",
          "text": [
            "12.34567876\n",
            "12.35\n"
          ]
        }
      ]
    },
    {
      "cell_type": "code",
      "source": [
        "x=float(input())\n",
        "if x>0:\n",
        "  print(\"+\",round(x,2))\n",
        "else:\n",
        "  print(round(x,2))\n",
        "\n"
      ],
      "metadata": {
        "colab": {
          "base_uri": "https://localhost:8080/"
        },
        "id": "6t8iPpIGlSdc",
        "outputId": "1e7142d7-9490-404a-f749-c47c539ae90a"
      },
      "execution_count": null,
      "outputs": [
        {
          "output_type": "stream",
          "name": "stdout",
          "text": [
            "223.34442\n",
            "+ 223.34\n"
          ]
        }
      ]
    },
    {
      "cell_type": "code",
      "source": [
        "x=\"Cat _Dog _Leon _Monkey\"\n",
        "print(\"the\"+x.replace(\"_\",\"the\"))"
      ],
      "metadata": {
        "colab": {
          "base_uri": "https://localhost:8080/"
        },
        "id": "qfi4Yw94nnQ8",
        "outputId": "8458ec56-80fe-4c1a-a220-9bcb473303df"
      },
      "execution_count": null,
      "outputs": [
        {
          "output_type": "stream",
          "name": "stdout",
          "text": [
            "theCat theDog theLeon theMonkey\n"
          ]
        }
      ]
    },
    {
      "cell_type": "code",
      "source": [
        "x=\"hello \\n in \\nmy \\ncolab\"\n",
        "print(x)\n",
        "print(x.replace(\"\\n\",\"\"))\n"
      ],
      "metadata": {
        "colab": {
          "base_uri": "https://localhost:8080/"
        },
        "id": "Z79YkjE6ocS8",
        "outputId": "6d012685-6749-479f-e167-d6deb9ab3e1e"
      },
      "execution_count": null,
      "outputs": [
        {
          "output_type": "stream",
          "name": "stdout",
          "text": [
            "hello \n",
            " in \n",
            "my \n",
            "colab\n",
            "hello  in my colab\n"
          ]
        }
      ]
    },
    {
      "cell_type": "code",
      "source": [
        "x=\"python\"\n",
        "l=\"\"\n",
        "for i in range(0,len(x)):\n",
        "  if i%2==0:\n",
        "    l+=x[i]\n",
        "print(l)\n",
        "\n"
      ],
      "metadata": {
        "colab": {
          "base_uri": "https://localhost:8080/"
        },
        "id": "ZgooJbwfrf-f",
        "outputId": "287ad040-b307-43d2-a7fb-b187ad332063"
      },
      "execution_count": null,
      "outputs": [
        {
          "output_type": "stream",
          "name": "stdout",
          "text": [
            "pto\n"
          ]
        }
      ]
    },
    {
      "cell_type": "code",
      "source": [
        "arr=[1,2,3]\n",
        "check=set()\n",
        "for i in range(len(arr)):\n",
        "  c=(arr[i],)\n",
        "  if c not in check:\n",
        "    print(list(c))\n",
        "    check.add(c)\n",
        "for i in range(len(arr)):\n",
        "      for j in range(i+1,len(arr)):\n",
        "        c=(arr[i],arr[j])\n",
        "        if c not in check:\n",
        "          print(list(c))\n",
        "          check.add(c)\n",
        "if len(arr)>=3:\n",
        "  c=tuple(arr)\n",
        "  if c not in check:\n",
        "    print(list(c))\n",
        "    check.add(c)"
      ],
      "metadata": {
        "colab": {
          "base_uri": "https://localhost:8080/"
        },
        "id": "0h7xbj4X9T2F",
        "outputId": "493349ca-a1ab-4b59-c4d8-a9bac6c4613e"
      },
      "execution_count": 2,
      "outputs": [
        {
          "output_type": "stream",
          "name": "stdout",
          "text": [
            "[1]\n",
            "[2]\n",
            "[3]\n",
            "[1, 2]\n",
            "[1, 3]\n",
            "[2, 3]\n",
            "[1, 2, 3]\n"
          ]
        }
      ]
    }
  ]
}