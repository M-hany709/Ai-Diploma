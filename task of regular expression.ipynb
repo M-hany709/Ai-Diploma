{
 "cells": [
  {
   "cell_type": "code",
   "execution_count": null,
   "id": "e5e06523-6b27-4d6e-a76a-df38930c7a31",
   "metadata": {},
   "outputs": [],
   "source": [
    "#Question 1: make file unordered\n",
    "#Each line contains the data (name, email, phone) in a different order."
   ]
  },
  {
   "cell_type": "code",
   "execution_count": 1,
   "id": "5117a2ea-c6a4-4db1-91c0-f43f0ac14ed9",
   "metadata": {},
   "outputs": [
    {
     "name": "stdout",
     "output_type": "stream",
     "text": [
      "Question 1 - Unordered Data:\n",
      "\n",
      "Line 1:\n",
      "Name: Ahmed Ali\n",
      "Email: ahmed@gmail.com\n",
      "Phone: 01012345678\n",
      "Line 2:\n",
      "Name: Mona Samir\n",
      "Email: mona123@yahoo.com\n",
      "Phone: 01098765432\n",
      "Line 3:\n",
      "Name: Youssef Adel\n",
      "Email: youssef.adel@mail.com\n",
      "Phone: 01122334455\n",
      "Line 4:\n",
      "Name: FatmaAmr\n",
      "Email: fatma@mail.com\n",
      "Phone: 01211223344\n",
      "Line 5:\n",
      "Name: Omar Hany omar\n",
      "Email: hany@gmail.com\n",
      "Phone: 01055667788\n",
      "Line 6:\n",
      "Name: Laila Saber laila\n",
      "Email: saber@yahoo.com\n",
      "Phone: 01066778899\n",
      "Line 7:\n",
      "Name: Khaled.Mostafa\n",
      "Email: khaled.mostafa@outlook.com\n",
      "Phone: 01511223344\n",
      "Line 8:\n",
      "Name: salma rashad salma\n",
      "Email: rashad@gmail.com\n",
      "Phone: 01299887766\n",
      "Line 9:\n",
      "Name: Nour Hassan\n",
      "Email: nourhassan@yahoo.com\n",
      "Phone: 0101002003\n",
      "Line 10:\n",
      "Name: MahmoudAmin\n",
      "Email: mahmoud@gmail.com\n",
      "Phone: 0111002200\n",
      "Line 11:\n",
      "Name: Zeinab Mostafa\n",
      "Email: zeinab.mostafa@hotmail.com\n",
      "Phone: 01033344455\n",
      "Line 12:\n",
      "Name: Hesham Samir hesham\n",
      "Email: samir@gmail.com\n",
      "Phone: 01234567890\n",
      "Line 13:\n",
      "Name: Tarek Adel\n",
      "Email: tarek.adel@yahoo.com\n",
      "Phone: 01555443322\n",
      "Line 14:\n",
      "Name: Rania Adel\n",
      "Email: rania.adel@mail.com\n",
      "Phone: 01077889900\n",
      "Line 15:\n",
      "Name: Ola Sami ola\n",
      "Email: sami@hotmail.com\n",
      "Phone: 01133445566\n"
     ]
    }
   ],
   "source": [
    "import re\n",
    "\n",
    "with open(\"reg_text.txt\", \"r\") as file:\n",
    "    lines = file.readlines()\n",
    "print(\"Question 1 - Unordered Data:\\n\")\n",
    "for idx, line in enumerate(lines, 1):\n",
    "    original = line.strip()\n",
    "    parts = re.split(r'[,\\-\\|_; ]+', original)\n",
    "    name = []\n",
    "    email = None\n",
    "    phone = None\n",
    "    for part in parts:\n",
    "        part = part.strip()\n",
    "        if '@' in part:\n",
    "            email = part\n",
    "        elif re.fullmatch(r'01[0-9]{8,9}', part):\n",
    "            phone = part\n",
    "        elif part:\n",
    "            name.append(part)\n",
    "\n",
    "    print(f\"Line {idx}:\")\n",
    "    print(f\"Name: {' '.join(name)}\")\n",
    "    print(f\"Email: {email}\")\n",
    "    print(f\"Phone: {phone}\")"
   ]
  },
  {
   "cell_type": "code",
   "execution_count": null,
   "id": "b8753696-3a29-4bf5-813a-82e763dae7a9",
   "metadata": {},
   "outputs": [],
   "source": [
    "#Question 2: make file separated differently"
   ]
  },
  {
   "cell_type": "code",
   "execution_count": 2,
   "id": "eb52d585-388e-40f9-8674-54181d8c51b9",
   "metadata": {},
   "outputs": [
    {
     "name": "stdout",
     "output_type": "stream",
     "text": [
      "\n",
      "Question 2 - Detect Separator in Each Line:\n",
      "\n",
      "Line 1: Separator used -> ','\n",
      "Line 2: Separator used -> '-'\n",
      "Line 3: Separator used -> '|'\n",
      "Line 4: Separator used -> ' '\n",
      "Line 5: Separator used -> ';'\n",
      "Line 6: Separator used -> '_'\n",
      "Line 7: Separator used -> ','\n",
      "Line 8: Separator used -> '-'\n",
      "Line 9: Separator used -> '|'\n",
      "Line 10: Separator used -> ' '\n",
      "Line 11: Separator used -> ';'\n",
      "Line 12: Separator used -> '_'\n",
      "Line 13: Separator used -> ','\n",
      "Line 14: Separator used -> '-'\n",
      "Line 15: Separator used -> '|'\n"
     ]
    }
   ],
   "source": [
    "separators = [',', '-', '|', ';', '_', ' ']\n",
    "with open(\"reg_text.txt\", \"r\") as file:\n",
    "    lines = file.readlines()\n",
    "print(\"\\nQuestion 2 - Detect Separator in Each Line:\\n\")\n",
    "\n",
    "for idx, line in enumerate(lines, 1):\n",
    "    line = line.strip()\n",
    "    used_sep = None\n",
    "    for sep in separators:\n",
    "        if sep in line:\n",
    "            used_sep = sep\n",
    "            break\n",
    "    used_sep = used_sep or 'No separator'\n",
    "    print(f\"Line {idx}: Separator used -> '{used_sep}'\")"
   ]
  },
  {
   "cell_type": "code",
   "execution_count": null,
   "id": "68659905-adbb-452d-8a0a-f47349aa414a",
   "metadata": {},
   "outputs": [],
   "source": [
    "#Question 3: First name, last name, or middle name"
   ]
  },
  {
   "cell_type": "code",
   "execution_count": 3,
   "id": "96e43fec-49ea-40dd-b274-e2e6310a2245",
   "metadata": {},
   "outputs": [
    {
     "name": "stdout",
     "output_type": "stream",
     "text": [
      "\n",
      " Question 3 - Name Breakdown:\n",
      "\n",
      "Line 1: First Name: Ahmed, Last Name: Ali\n",
      "Line 2: First Name: Mona, Last Name: Samir\n",
      "Line 3: First Name: Youssef, Last Name: Adel\n",
      "Line 4: Full Name: FatmaAmr (Cannot be parsed cleanly)\n",
      "Line 5: First Name: Omar, Middle Name: Hany, Last Name: omar\n",
      "Line 6: First Name: Laila, Middle Name: Saber, Last Name: laila\n",
      "Line 7: Full Name: Khaled.Mostafa (Cannot be parsed cleanly)\n",
      "Line 8: First Name: salma, Middle Name: rashad, Last Name: salma\n",
      "Line 9: First Name: Nour, Last Name: Hassan\n",
      "Line 10: Full Name: MahmoudAmin (Cannot be parsed cleanly)\n",
      "Line 11: First Name: Zeinab, Last Name: Mostafa\n",
      "Line 12: First Name: Hesham, Middle Name: Samir, Last Name: hesham\n",
      "Line 13: First Name: Tarek, Last Name: Adel\n",
      "Line 14: First Name: Rania, Last Name: Adel\n",
      "Line 15: First Name: Ola, Middle Name: Sami, Last Name: ola\n"
     ]
    }
   ],
   "source": [
    "import re\n",
    "\n",
    "with open(\"reg_text.txt\", \"r\") as file:\n",
    "    lines = file.readlines()\n",
    "\n",
    "print(\"\\n Question 3 - Name Breakdown:\\n\")\n",
    "\n",
    "for idx, line in enumerate(lines, 1):\n",
    "    line = line.strip()\n",
    "    parts = re.split(r'[,\\-\\|_; ]+', line)\n",
    "\n",
    "    name_parts = []\n",
    "    for part in parts:\n",
    "        if not '@' in part and not re.fullmatch(r'01[0-9]{8,9}', part):\n",
    "            name_parts.append(part)\n",
    "\n",
    "    print(f\"Line {idx}: \", end='')\n",
    "\n",
    "    if len(name_parts) == 2:\n",
    "        print(f\"First Name: {name_parts[0]}, Last Name: {name_parts[1]}\")\n",
    "    elif len(name_parts) == 3:\n",
    "        print(f\"First Name: {name_parts[0]}, Middle Name: {name_parts[1]}, Last Name: {name_parts[2]}\")\n",
    "    else:\n",
    "        print(f\"Full Name: {' '.join(name_parts)} (Cannot be parsed cleanly)\")"
   ]
  },
  {
   "cell_type": "code",
   "execution_count": null,
   "id": "402e0453-9095-4bcc-a5bb-92a52dd58133",
   "metadata": {},
   "outputs": [],
   "source": []
  }
 ],
 "metadata": {
  "kernelspec": {
   "display_name": "Python 3 (ipykernel)",
   "language": "python",
   "name": "python3"
  },
  "language_info": {
   "codemirror_mode": {
    "name": "ipython",
    "version": 3
   },
   "file_extension": ".py",
   "mimetype": "text/x-python",
   "name": "python",
   "nbconvert_exporter": "python",
   "pygments_lexer": "ipython3",
   "version": "3.13.2"
  }
 },
 "nbformat": 4,
 "nbformat_minor": 5
}
