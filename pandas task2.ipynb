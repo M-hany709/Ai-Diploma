{
 "cells": [
  {
   "cell_type": "code",
   "execution_count": 1,
   "id": "042578fd-bc66-46c7-a728-83b4ff31a6f7",
   "metadata": {},
   "outputs": [],
   "source": [
    "import pandas as pd\n",
    "data={\n",
    "    \"name\":[\"ali\",\"sara\",\"nour\"],\n",
    "    \"grade\":[85,90,75]}\n"
   ]
  },
  {
   "cell_type": "code",
   "execution_count": null,
   "id": "1de88825-6693-4f3f-8edf-d8ea392ea674",
   "metadata": {},
   "outputs": [],
   "source": [
    "#sort by index"
   ]
  },
  {
   "cell_type": "code",
   "execution_count": 2,
   "id": "255d4a51-b22f-4174-997a-1620158296f6",
   "metadata": {},
   "outputs": [
    {
     "name": "stdout",
     "output_type": "stream",
     "text": [
      "   name  grade\n",
      "3   ali     85\n",
      "1  sara     90\n",
      "2  nour     75\n"
     ]
    }
   ],
   "source": [
    "df=pd.DataFrame(data,index=[3,1,2])\n",
    "sorted_df=df.sort_index()\n",
    "print(df)"
   ]
  },
  {
   "cell_type": "code",
   "execution_count": 1,
   "id": "47e0c361-46df-478b-a77b-487d0c49552f",
   "metadata": {},
   "outputs": [],
   "source": [
    "#sort by specific column"
   ]
  },
  {
   "cell_type": "code",
   "execution_count": 10,
   "id": "48293bfe-ef82-4dfb-9b58-a06708c035e0",
   "metadata": {},
   "outputs": [
    {
     "name": "stdout",
     "output_type": "stream",
     "text": [
      "   name  grade\n",
      "1  sara     90\n",
      "0   ali     85\n",
      "2  nour     75\n"
     ]
    }
   ],
   "source": [
    "dd={\n",
    "    \"name\":[\"ali\",\"sara\",\"nour\"],\n",
    "    \"grade\":[85,90,75]}\n",
    "d=pd.DataFrame(dd)\n",
    "sorted_by_grade_desc = d.sort_values(by='grade', ascending=False )\n",
    "print(sorted_by_grade_desc)"
   ]
  },
  {
   "cell_type": "code",
   "execution_count": null,
   "id": "5d5ead64-783e-47d4-98d0-8d7098cda075",
   "metadata": {},
   "outputs": [],
   "source": []
  }
 ],
 "metadata": {
  "kernelspec": {
   "display_name": "Python 3 (ipykernel)",
   "language": "python",
   "name": "python3"
  },
  "language_info": {
   "codemirror_mode": {
    "name": "ipython",
    "version": 3
   },
   "file_extension": ".py",
   "mimetype": "text/x-python",
   "name": "python",
   "nbconvert_exporter": "python",
   "pygments_lexer": "ipython3",
   "version": "3.13.2"
  }
 },
 "nbformat": 4,
 "nbformat_minor": 5
}
