{
  "nbformat": 4,
  "nbformat_minor": 0,
  "metadata": {
    "colab": {
      "provenance": [],
      "toc_visible": true,
      "authorship_tag": "ABX9TyOCplIRR8e7nVn+4ECdq+vs",
      "include_colab_link": true
    },
    "kernelspec": {
      "name": "python3",
      "display_name": "Python 3"
    },
    "language_info": {
      "name": "python"
    }
  },
  "cells": [
    {
      "cell_type": "markdown",
      "metadata": {
        "id": "view-in-github",
        "colab_type": "text"
      },
      "source": [
        "<a href=\"https://colab.research.google.com/github/M-hany709/Ai-Diploma/blob/main/task_section_3.ipynb\" target=\"_parent\"><img src=\"https://colab.research.google.com/assets/colab-badge.svg\" alt=\"Open In Colab\"/></a>"
      ]
    },
    {
      "cell_type": "code",
      "execution_count": null,
      "metadata": {
        "colab": {
          "base_uri": "https://localhost:8080/"
        },
        "id": "fE-ouOOj6B0l",
        "outputId": "87eaf5af-9bbf-44ff-a8ea-2dbbfe4ac168"
      },
      "outputs": [
        {
          "output_type": "stream",
          "name": "stdout",
          "text": [
            "2\n",
            "4.6\n",
            "6.6\n"
          ]
        }
      ],
      "source": [
        "def addation(x,y):\n",
        "  print(x+y)\n",
        "d=float(input())\n",
        "s=float(input())\n",
        "addation(d,s)"
      ]
    },
    {
      "cell_type": "code",
      "source": [
        "def check(x):\n",
        "  if x%2==0:\n",
        "    print(\"Even\")\n",
        "  else:\n",
        "    print(\"Odd\")\n",
        "i=int(input())\n",
        "check(i)"
      ],
      "metadata": {
        "colab": {
          "base_uri": "https://localhost:8080/"
        },
        "id": "tf4G5qXS6010",
        "outputId": "84713d0a-c127-4084-aa01-4581d1ec99e6"
      },
      "execution_count": null,
      "outputs": [
        {
          "output_type": "stream",
          "name": "stdout",
          "text": [
            "7\n",
            "Odd\n"
          ]
        }
      ]
    },
    {
      "cell_type": "code",
      "source": [
        "for i in range(1,21):\n",
        "  if i%2==0:\n",
        "    print(i,end=\" \")"
      ],
      "metadata": {
        "colab": {
          "base_uri": "https://localhost:8080/"
        },
        "id": "It19JVYy7V01",
        "outputId": "db71f7e9-d61f-4d9c-8cb8-254667e6f34c"
      },
      "execution_count": null,
      "outputs": [
        {
          "output_type": "stream",
          "name": "stdout",
          "text": [
            "2 4 6 8 10 12 14 16 18 20 "
          ]
        }
      ]
    },
    {
      "cell_type": "code",
      "source": [
        "def fun(x):\n",
        "  f=list(x)\n",
        "  m=len(f)\n",
        "  c=0\n",
        "\n",
        "  for r in range(0,m):\n",
        "    if f[r]=='a' or f[r]=='e' or f[r]=='i' or f[r]=='o' or f[r]=='u':\n",
        "      c+=1\n",
        "  print(c)\n",
        "\n",
        "d=input()\n",
        "fun(d)\n"
      ],
      "metadata": {
        "colab": {
          "base_uri": "https://localhost:8080/"
        },
        "id": "acH3szrt7fqY",
        "outputId": "f104ab0d-4d71-4816-ecaf-5708476edb6a"
      },
      "execution_count": null,
      "outputs": [
        {
          "output_type": "stream",
          "name": "stdout",
          "text": [
            "nouur\n",
            "3\n"
          ]
        }
      ]
    },
    {
      "cell_type": "markdown",
      "source": [
        "# New Section"
      ],
      "metadata": {
        "id": "VzeDCk1DGts4"
      }
    },
    {
      "cell_type": "code",
      "source": [
        "l=[]\n",
        "for i in range(1,11):\n",
        "  l.append(i)\n",
        "print(l)\n",
        "\n",
        "for i in range(0,10):\n",
        "  l[i]**=2\n",
        "\n",
        "print(l)\n",
        "\n",
        "\n",
        "\n"
      ],
      "metadata": {
        "id": "E886m0QaCXl6",
        "colab": {
          "base_uri": "https://localhost:8080/"
        },
        "outputId": "a247f9d6-65d3-4494-d32c-cf615db66ed3"
      },
      "execution_count": null,
      "outputs": [
        {
          "output_type": "stream",
          "name": "stdout",
          "text": [
            "[1, 2, 3, 4, 5, 6, 7, 8, 9, 10]\n",
            "[1, 4, 9, 16, 25, 36, 49, 64, 81, 100]\n"
          ]
        }
      ]
    },
    {
      "cell_type": "code",
      "source": [
        "Student_name=input(\"enter your name:\")\n",
        "S_names=[]\n",
        "for i in range(0,6):\n",
        "  x=input(\"enter the subject:\")\n",
        "  S_names.append(x)\n",
        "S_scoures=[]\n",
        "for i in range (0,6):\n",
        "  y=int(input(\"enter the scoures:\") )\n",
        "  S_scoures.append(y)\n",
        "av=sum(S_scoures)/6\n",
        "if av>70:\n",
        "  print(\"congratulations\")\n",
        "else:\n",
        "  print(\"try again\")\n",
        "\n",
        "\n"
      ],
      "metadata": {
        "colab": {
          "base_uri": "https://localhost:8080/"
        },
        "id": "MX6H8pugJeIs",
        "outputId": "fb7c0ab3-2558-4b7c-90d2-52b64432b59a"
      },
      "execution_count": null,
      "outputs": [
        {
          "output_type": "stream",
          "name": "stdout",
          "text": [
            "enter your name:menna\n",
            "enter the subject:numerical\n",
            "enter the subject:oop\n",
            "enter the subject:c++\n",
            "enter the subject:data\n",
            "enter the subject:logic\n",
            "enter the subject:internet\n",
            "enter the scoures:90\n",
            "enter the scoures:60\n",
            "enter the scoures:80\n",
            "enter the scoures:99\n",
            "enter the scoures:78\n",
            "enter the scoures:80\n",
            "congratulations\n"
          ]
        }
      ]
    },
    {
      "cell_type": "code",
      "source": [
        "x=int(input())\n",
        "y=int(input())\n",
        "z=int(input())\n",
        "s=int(input())\n",
        "c=x*y*z*s\n",
        "print(\"the last 2 digits of the multiplication:\",c%100)"
      ],
      "metadata": {
        "colab": {
          "base_uri": "https://localhost:8080/"
        },
        "id": "Ak8efzVMSVCX",
        "outputId": "d4b350a4-9473-49a6-9151-31bdfafae4b8"
      },
      "execution_count": null,
      "outputs": [
        {
          "output_type": "stream",
          "name": "stdout",
          "text": [
            "2\n",
            "3\n",
            "4\n",
            "5\n",
            "the last 2 digits of the multiplication: 20\n"
          ]
        }
      ]
    },
    {
      "cell_type": "code",
      "source": [
        "x=int(input(\"enter the number:\"))\n",
        "\n",
        "c=0\n",
        "for i in range (1,x+1):\n",
        "  if x%i==0:\n",
        "    c+=1\n",
        "\n",
        "if c>2 or c==1 or c==0:\n",
        "  print(\"it is not prime\")\n",
        "else:\n",
        "  print(\"it is prime\")\n"
      ],
      "metadata": {
        "colab": {
          "base_uri": "https://localhost:8080/"
        },
        "id": "f0Y1UnStUlcg",
        "outputId": "3e53b22e-8570-4936-e9d8-5492c6303002"
      },
      "execution_count": null,
      "outputs": [
        {
          "output_type": "stream",
          "name": "stdout",
          "text": [
            "enter the number:13\n",
            "it is prime\n"
          ]
        }
      ]
    },
    {
      "cell_type": "code",
      "source": [
        "x=int(input(\"enter the number of the elements int the list:\"))\n",
        "y=[]\n",
        "for i in range (0,x):\n",
        "  e=int(input(\"enter the element of the list:\"))\n",
        "  y.append(e)\n",
        "n=int(input(\"the number want to define if exist or not:\"))\n",
        "flag=0\n",
        "for i in range (0,x):\n",
        "  if y[i]==n:\n",
        "    flag=1\n",
        "    t=i\n",
        "    break\n",
        "if flag==1:\n",
        "  print(\"the postion of the number:\",t)\n",
        "else:\n",
        "  print(\"the number is not exist\")\n"
      ],
      "metadata": {
        "colab": {
          "base_uri": "https://localhost:8080/"
        },
        "id": "qKJi46EEWwOC",
        "outputId": "89b28cd5-ff4d-4321-e89f-06d53fed5d1f"
      },
      "execution_count": null,
      "outputs": [
        {
          "output_type": "stream",
          "name": "stdout",
          "text": [
            "enter the number of the elements int the list:4\n",
            "enter the element of the list:1\n",
            "enter the element of the list:23\n",
            "enter the element of the list:44\n",
            "enter the element of the list:65\n",
            "the number want to define if exist or not:23\n",
            "the postion of the number: 1\n"
          ]
        }
      ]
    },
    {
      "cell_type": "code",
      "source": [],
      "metadata": {
        "id": "1tM3-7dOaYAF"
      },
      "execution_count": null,
      "outputs": []
    },
    {
      "cell_type": "code",
      "source": [
        "x=int(input(\"enter the number of the elements int the list:\"))\n",
        "y=[]\n",
        "for i in range (0,x):\n",
        "  e=int(input(\"enter the element of the list:\"))\n",
        "  y.append(e)\n",
        "\n",
        "c=0\n",
        "for i in range(0,x):\n",
        "  if y[i]==min(y):\n",
        "   c+=1\n",
        "if c%2!=0:\n",
        "  print(\"it is lucky array\")\n",
        "else:\n",
        "  print(\"it is not lucky array\")\n",
        "\n",
        "\n",
        "\n"
      ],
      "metadata": {
        "colab": {
          "base_uri": "https://localhost:8080/"
        },
        "outputId": "a54a18bf-c66a-483b-a5f0-4003fa572fa7",
        "id": "yw_ykRKNbzji"
      },
      "execution_count": null,
      "outputs": [
        {
          "output_type": "stream",
          "name": "stdout",
          "text": [
            "enter the number of the elements int the list:6\n",
            "enter the element of the list:1\n",
            "enter the element of the list:2\n",
            "enter the element of the list:1\n",
            "enter the element of the list:55\n",
            "enter the element of the list:55\n",
            "enter the element of the list:55\n",
            "it is not lucky array\n"
          ]
        }
      ]
    },
    {
      "cell_type": "code",
      "source": [],
      "metadata": {
        "id": "5a4Q36ToehpH"
      },
      "execution_count": null,
      "outputs": []
    },
    {
      "cell_type": "code",
      "source": [
        "x=int(input(\"enter the number of the elements int the list:\"))\n",
        "y=[]\n",
        "for i in range (0,x):\n",
        "  e=int(input(\"enter the element of the list:\"))\n",
        "  y.append(e)\n",
        "n=min(y)\n",
        "x=max(y)\n",
        "print(\"the minumum number is:\",n)\n",
        "print(\"the maxumum number is:\",x)\n",
        "index_n=y.index(n)\n",
        "index_x=y.index(x)\n",
        "\n",
        "y[index_n]=x\n",
        "y[index_x]=n\n",
        "\n",
        "print(y)\n",
        "\n",
        "\n"
      ],
      "metadata": {
        "colab": {
          "base_uri": "https://localhost:8080/"
        },
        "outputId": "5be5e301-8e04-47e2-863e-c5527a799e14",
        "id": "nzsHf-Z2fojZ"
      },
      "execution_count": null,
      "outputs": [
        {
          "output_type": "stream",
          "name": "stdout",
          "text": [
            "enter the number of the elements int the list:6\n",
            "enter the element of the list:1\n",
            "enter the element of the list:2\n",
            "enter the element of the list:3\n",
            "enter the element of the list:4\n",
            "enter the element of the list:5\n",
            "enter the element of the list:6\n",
            "the minumum number is: 1\n",
            "the maxumum number is: 6\n",
            "[6, 2, 3, 4, 5, 1]\n"
          ]
        }
      ]
    },
    {
      "cell_type": "code",
      "source": [],
      "metadata": {
        "id": "AJl2Sd93of80"
      },
      "execution_count": null,
      "outputs": []
    },
    {
      "cell_type": "code",
      "source": [
        "x=int(input(\"enter the number of the elements int the list:\"))\n",
        "y=[]\n",
        "for i in range (0,x):\n",
        "  e=int(input(\"enter the element of the list:\"))\n",
        "  y.append(e)\n",
        "print(\"the lowest number:\",min(y),\"  \",\"this postion:\",y.index(min(y)))\n"
      ],
      "metadata": {
        "colab": {
          "base_uri": "https://localhost:8080/"
        },
        "outputId": "15c912c0-7aa7-4977-9d49-a44f31c44813",
        "id": "LtViANaLozel"
      },
      "execution_count": null,
      "outputs": [
        {
          "output_type": "stream",
          "name": "stdout",
          "text": [
            "enter the number of the elements int the list:5\n",
            "enter the element of the list:1\n",
            "enter the element of the list:3\n",
            "enter the element of the list:4\n",
            "enter the element of the list:1\n",
            "enter the element of the list:7\n",
            "the lowest number: 1    this postion: 0\n"
          ]
        }
      ]
    },
    {
      "cell_type": "code",
      "source": [],
      "metadata": {
        "id": "gegYMfKXp5mK"
      },
      "execution_count": null,
      "outputs": []
    },
    {
      "cell_type": "code",
      "source": [
        "x=int(input(\"enter the number of the elements int the list:\"))\n",
        "y=[]\n",
        "for i in range (0,x):\n",
        "  e=int(input(\"enter the element of the list:\"))\n",
        "  y.append(e)\n",
        "y.sort()\n",
        "print(\"the number after the sort:\",y)\n",
        "\n"
      ],
      "metadata": {
        "colab": {
          "base_uri": "https://localhost:8080/"
        },
        "outputId": "db5e6cc7-8151-4124-f1c1-bf2e108a0f3f",
        "id": "AC6K8SkdqDxP"
      },
      "execution_count": null,
      "outputs": [
        {
          "output_type": "stream",
          "name": "stdout",
          "text": [
            "enter the number of the elements int the list:5\n",
            "enter the element of the list:34\n",
            "enter the element of the list:66\n",
            "enter the element of the list:2\n",
            "enter the element of the list:3\n",
            "enter the element of the list:9\n",
            "the number after the sort: [2, 3, 9, 34, 66]\n"
          ]
        }
      ]
    },
    {
      "cell_type": "code",
      "source": [
        "x=int(input(\"enter the number of the elements int the list:\"))\n",
        "y=[]\n",
        "for i in range (0,x):\n",
        "  e=int(input(\"enter the element of the list:\"))\n",
        "  y.append(e)\n",
        "s=len(y)-1\n",
        "f=y[0]\n",
        "l=y[s]\n",
        "y[0]=l\n",
        "y[s]=f\n",
        "print(y)\n",
        "\n",
        "\n"
      ],
      "metadata": {
        "colab": {
          "base_uri": "https://localhost:8080/"
        },
        "outputId": "c64386db-0156-44f2-e4c9-1abcdcf76515",
        "id": "HsKuXAa3zXZt"
      },
      "execution_count": null,
      "outputs": [
        {
          "output_type": "stream",
          "name": "stdout",
          "text": [
            "enter the number of the elements int the list:6\n",
            "enter the element of the list:1\n",
            "enter the element of the list:2\n",
            "enter the element of the list:3\n",
            "enter the element of the list:4\n",
            "enter the element of the list:5\n",
            "enter the element of the list:6\n",
            "[6, 2, 3, 4, 5, 1]\n"
          ]
        }
      ]
    },
    {
      "cell_type": "code",
      "source": [
        "from re import I\n",
        "x=int(input(\"enter the great number:\"))\n",
        "y=int(input(\"enter the low number:\"))\n",
        "hcf=0\n",
        "for i in range(1,y+1):\n",
        "  if x%i==0 and y%i==0:\n",
        "    hcf=i\n",
        "print(\"the HCF=\",hcf)\n"
      ],
      "metadata": {
        "colab": {
          "base_uri": "https://localhost:8080/"
        },
        "id": "gU7Y4gPA0jcF",
        "outputId": "6bde4c59-8420-4cd2-8502-d5082f4f212c"
      },
      "execution_count": null,
      "outputs": [
        {
          "output_type": "stream",
          "name": "stdout",
          "text": [
            "enter the great number:48 \n",
            "enter the low number:24\n",
            "the HCF= 24\n"
          ]
        }
      ]
    },
    {
      "cell_type": "code",
      "source": [],
      "metadata": {
        "id": "P6rQwPxK4UwT"
      },
      "execution_count": null,
      "outputs": []
    },
    {
      "cell_type": "code",
      "source": [
        "x=int(input(\"enter the number of the elements in the first list:\"))\n",
        "y=[]\n",
        "for i in range (0,x):\n",
        "  e=int(input(\"enter the element of the first list:\"))\n",
        "  y.append(e)\n",
        "\n",
        "t=int(input(\"enter the number of the elements in the second list:\"))\n",
        "s=[]\n",
        "for g in range (0,t):\n",
        " a=int(input(\"enter the element of the second list:\"))\n",
        " s.append(a)\n",
        "\n",
        "f=[]\n",
        "\n",
        "for i in range(0,x):\n",
        "  for g in range (0,t):\n",
        "    if y[i]==s[g]:\n",
        "      f.append(y[i])\n",
        "\n",
        "print (\"the thrid list of the comman elements:\",f)\n",
        "\n",
        "\n"
      ],
      "metadata": {
        "colab": {
          "base_uri": "https://localhost:8080/"
        },
        "outputId": "78481ac9-2715-45c6-c7ce-6bd4d8ea91d5",
        "id": "nM8O-Dfb4qgO"
      },
      "execution_count": null,
      "outputs": [
        {
          "output_type": "stream",
          "name": "stdout",
          "text": [
            "enter the number of the elements in the first list:5\n",
            "enter the element of the first list:1\n",
            "enter the element of the first list:2\n",
            "enter the element of the first list:3\n",
            "enter the element of the first list:4\n",
            "enter the element of the first list:5\n",
            "enter the number of the elements in the second list:5\n",
            "enter the element of the second list:3\n",
            "enter the element of the second list:4\n",
            "enter the element of the second list:5\n",
            "enter the element of the second list:6\n",
            "enter the element of the second list:7\n",
            "the thrid list of the comman elements: [3, 4, 5]\n"
          ]
        }
      ]
    },
    {
      "cell_type": "code",
      "source": [],
      "metadata": {
        "id": "Hi9r7tIA9lho"
      },
      "execution_count": null,
      "outputs": []
    },
    {
      "cell_type": "code",
      "source": [
        "x=int(input(\"enter the number of the elements int the list:\"))\n",
        "y=[]\n",
        "for i in range (0,x):\n",
        "  e=int(input(\"enter the element of the list:\"))\n",
        "  y.append(e)\n",
        "e=int(input(\"enter the element to remove:\"))\n",
        "flag=0\n",
        "for i in range(0,x):\n",
        "  if y[i]==e:\n",
        "    y.remove(y[i])\n",
        "    flag=1\n",
        "if flag==1:\n",
        "  print(\"the list after remove element:\",y)\n",
        "else:\n",
        "  print(\"the element is not exist already\")\n",
        "\n"
      ],
      "metadata": {
        "colab": {
          "base_uri": "https://localhost:8080/"
        },
        "outputId": "b88cfe13-7957-4eca-cc92-831deec46911",
        "id": "zYeq_UoG-Bau"
      },
      "execution_count": null,
      "outputs": [
        {
          "output_type": "stream",
          "name": "stdout",
          "text": [
            "enter the number of the elements int the list:6\n",
            "enter the element of the list:1\n",
            "enter the element of the list:2\n",
            "enter the element of the list:3\n",
            "enter the element of the list:4\n",
            "enter the element of the list:5\n",
            "enter the element of the list:6\n",
            "enter the element to remove:8\n",
            "the element is not exist already\n"
          ]
        }
      ]
    },
    {
      "cell_type": "code",
      "source": [
        "x=input(\"enter string has space:\")\n",
        "print(\"the string after:\",x.replace(\" \",\"\"))\n"
      ],
      "metadata": {
        "colab": {
          "base_uri": "https://localhost:8080/"
        },
        "id": "6rwKihmr_1kx",
        "outputId": "fe202b06-0d81-4817-ac63-a10d906c42be"
      },
      "execution_count": null,
      "outputs": [
        {
          "output_type": "stream",
          "name": "stdout",
          "text": [
            "enter string has space:menna hany abdelhady\n",
            "the string after: mennahanyabdelhady\n"
          ]
        }
      ]
    }
  ]
}