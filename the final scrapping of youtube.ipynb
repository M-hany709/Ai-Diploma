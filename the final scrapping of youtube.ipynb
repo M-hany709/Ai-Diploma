{
 "cells": [
  {
   "cell_type": "code",
   "execution_count": 7,
   "id": "c926ec0b-eb3e-49fe-9bca-4e4f5659a3e7",
   "metadata": {},
   "outputs": [
    {
     "name": "stdout",
     "output_type": "stream",
     "text": [
      "Please visit this URL to authorize this application: https://accounts.google.com/o/oauth2/auth?response_type=code&client_id=942808727710-25d4vhfrrcmv099rvlt5t1qtm8rfvk9d.apps.googleusercontent.com&redirect_uri=http%3A%2F%2Flocalhost%3A8080%2F&scope=https%3A%2F%2Fwww.googleapis.com%2Fauth%2Fyoutube.readonly&state=HZvCg64fcqheQW6wiSGN2ELyllcgG0&access_type=offline\n",
      "Mustafa Hosny: 6960000 مشترك\n",
      "National Arab Orchestra: 583000 مشترك\n",
      "Aly Asaad | علي أسعد: 342 مشترك\n",
      "Amr Mahran: 87800 مشترك\n",
      "MBC MASR 2: 1100000 مشترك\n",
      "Omar's Cooking - عمر في المطبخ: 732000 مشترك\n",
      "دورة التحدي الكبرى بإحترافية حافظ \"م.عفاف مرعي\": 111000 مشترك\n",
      "Dr. Ahmed Hagag: 79300 مشترك\n"
     ]
    }
   ],
   "source": [
    "import csv\n",
    "from google_auth_oauthlib.flow import InstalledAppFlow\n",
    "from googleapiclient.discovery import build\n",
    "\n",
    "SCOPES = [\"https://www.googleapis.com/auth/youtube.readonly\"] \n",
    "flow = InstalledAppFlow.from_client_secrets_file(\"client_secret.json\", SCOPES)\n",
    "credentials = flow.run_local_server(port=8080)\n",
    "\n",
    "\n",
    "youtube = build(\"youtube\", \"v3\", credentials=credentials)\n",
    "\n",
    "with open(\"subscriptions.csv\", \"w\", newline='', encoding=\"utf-8\") as csvfile:\n",
    "    writer = csv.writer(csvfile)\n",
    "    writer.writerow([\"Channel Name\", \"Subscriber Count\"])\n",
    "\n",
    "    \n",
    "    subscriptions = youtube.subscriptions().list(\n",
    "        part=\"snippet\",\n",
    "        mine=True,\n",
    "        maxResults=50\n",
    "    ).execute()\n",
    "\n",
    "    \n",
    "    for item in subscriptions[\"items\"]:\n",
    "        channel_title = item[\"snippet\"][\"title\"]\n",
    "        channel_id = item[\"snippet\"][\"resourceId\"][\"channelId\"]\n",
    "\n",
    "        \n",
    "        channel_stats = youtube.channels().list(\n",
    "            part=\"statistics\",\n",
    "            id=channel_id\n",
    "        ).execute()\n",
    "\n",
    "        subs = channel_stats[\"items\"][0][\"statistics\"].get(\"subscriberCount\", \"Hidden\")\n",
    "        print(f\"{channel_title}: {subs} مشترك\")\n",
    "\n",
    "       \n",
    "        writer.writerow([channel_title, subs])"
   ]
  },
  {
   "cell_type": "code",
   "execution_count": null,
   "id": "1bcf9823-8dd4-45b0-ac9f-50c1f01ba8a9",
   "metadata": {},
   "outputs": [],
   "source": []
  },
  {
   "cell_type": "code",
   "execution_count": null,
   "id": "c91ce0b9-16dc-434f-a0e9-7a1eae93c81a",
   "metadata": {},
   "outputs": [],
   "source": []
  },
  {
   "cell_type": "code",
   "execution_count": null,
   "id": "8cda9c00-689f-432d-9704-4705d8515f94",
   "metadata": {},
   "outputs": [],
   "source": []
  }
 ],
 "metadata": {
  "kernelspec": {
   "display_name": "Python 3 (ipykernel)",
   "language": "python",
   "name": "python3"
  },
  "language_info": {
   "codemirror_mode": {
    "name": "ipython",
    "version": 3
   },
   "file_extension": ".py",
   "mimetype": "text/x-python",
   "name": "python",
   "nbconvert_exporter": "python",
   "pygments_lexer": "ipython3",
   "version": "3.13.2"
  }
 },
 "nbformat": 4,
 "nbformat_minor": 5
}
