{
 "cells": [
  {
   "cell_type": "code",
   "execution_count": 2,
   "id": "ec4b464f-2e76-446c-bd18-13f4c24205a4",
   "metadata": {},
   "outputs": [
    {
     "name": "stdout",
     "output_type": "stream",
     "text": [
      "successfully added\n"
     ]
    }
   ],
   "source": [
    "\n",
    "import requests\n",
    "from bs4 import BeautifulSoup\n",
    "\n",
    "# رابط الصفحة اللي فيها الصورة\n",
    "url = 'https://www.timeanddate.com/'\n",
    "\n",
    "# إرسال طلب للصفحة\n",
    "response = requests.get(url)\n",
    "soup = BeautifulSoup(response.text, 'html.parser')\n",
    "\n",
    "# إيجاد أول صورة\n",
    "img_tag = soup.find('img')\n",
    "img_url = img_tag['src']\n",
    "\n",
    "# التعامل مع الروابط النسبية\n",
    "if img_url.startswith('/'):\n",
    "    img_url = url + img_url\n",
    "\n",
    "# تحميل الصورة\n",
    "img_data = requests.get(img_url).content\n",
    "with open('downloaded_image.jpg', 'wb') as f:\n",
    "    f.write(img_data)\n",
    "\n",
    "print(\"successfully added\")\n",
    "\n",
    "\n",
    "import requests\n",
    "\n",
    "img_url = 'https://c.tadst.com/gfx/900x506/may-moon-phase-times-large.jpg?1'\n",
    "img_data = requests.get(img_url).content\n",
    "with open('image.jpg', 'wb') as f:\n",
    "    f.write(img_data)"
   ]
  },
  {
   "cell_type": "code",
   "execution_count": null,
   "id": "a0ce6910-b539-4b11-bfe6-07ce1cdf20bf",
   "metadata": {},
   "outputs": [],
   "source": []
  }
 ],
 "metadata": {
  "kernelspec": {
   "display_name": "Python 3 (ipykernel)",
   "language": "python",
   "name": "python3"
  },
  "language_info": {
   "codemirror_mode": {
    "name": "ipython",
    "version": 3
   },
   "file_extension": ".py",
   "mimetype": "text/x-python",
   "name": "python",
   "nbconvert_exporter": "python",
   "pygments_lexer": "ipython3",
   "version": "3.13.2"
  }
 },
 "nbformat": 4,
 "nbformat_minor": 5
}
